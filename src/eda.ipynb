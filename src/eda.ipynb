{
 "cells": [
  {
   "cell_type": "markdown",
   "metadata": {},
   "source": [
    "# EDA for match data of tennis"
   ]
  },
  {
   "cell_type": "code",
   "execution_count": 1,
   "metadata": {},
   "outputs": [],
   "source": [
    "# ライブラリインポート\n",
    "import pandas as pd\n",
    "import numpy as np\n",
    "import matplotlib.pyplot as plt\n",
    "import seaborn as sns\n",
    "\n",
    "# 設定\n",
    "pd.options.display.max_columns = 100\n",
    "pd.options.display.max_rows = 50\n",
    "\n",
    "%matplotlib inline"
   ]
  },
  {
   "cell_type": "code",
   "execution_count": 2,
   "metadata": {},
   "outputs": [],
   "source": [
    "# データ読み込み\n",
    "dir_path = \"/Users/Tomoki Yako/tech/competition/SIGNATE/sinnate_tennis/data/\"\n",
    "train_df = pd.read_csv(dir_path + \"train.tsv\", sep='\\t')\n",
    "test_df = pd.read_csv(dir_path + \"test.tsv\", sep='\\t')"
   ]
  },
  {
   "cell_type": "code",
   "execution_count": 3,
   "metadata": {},
   "outputs": [
    {
     "data": {
      "text/html": [
       "<div>\n",
       "<style scoped>\n",
       "    .dataframe tbody tr th:only-of-type {\n",
       "        vertical-align: middle;\n",
       "    }\n",
       "\n",
       "    .dataframe tbody tr th {\n",
       "        vertical-align: top;\n",
       "    }\n",
       "\n",
       "    .dataframe thead th {\n",
       "        text-align: right;\n",
       "    }\n",
       "</style>\n",
       "<table border=\"1\" class=\"dataframe\">\n",
       "  <thead>\n",
       "    <tr style=\"text-align: right;\">\n",
       "      <th></th>\n",
       "      <th>id</th>\n",
       "      <th>Tournament</th>\n",
       "      <th>Sex</th>\n",
       "      <th>Year</th>\n",
       "      <th>Player1</th>\n",
       "      <th>Player2</th>\n",
       "      <th>Round</th>\n",
       "      <th>Result</th>\n",
       "      <th>FNL.1</th>\n",
       "      <th>FNL.2</th>\n",
       "      <th>FSP.1</th>\n",
       "      <th>FSW.1</th>\n",
       "      <th>SSP.1</th>\n",
       "      <th>SSW.1</th>\n",
       "      <th>ACE.1</th>\n",
       "      <th>DBF.1</th>\n",
       "      <th>WNR.1</th>\n",
       "      <th>UFE.1</th>\n",
       "      <th>BPC.1</th>\n",
       "      <th>BPW.1</th>\n",
       "      <th>NPA.1</th>\n",
       "      <th>NPW.1</th>\n",
       "      <th>TPW.1</th>\n",
       "      <th>ST1.1</th>\n",
       "      <th>ST2.1</th>\n",
       "      <th>ST3.1</th>\n",
       "      <th>ST4.1</th>\n",
       "      <th>ST5.1</th>\n",
       "      <th>FSP.2</th>\n",
       "      <th>FSW.2</th>\n",
       "      <th>SSP.2</th>\n",
       "      <th>SSW.2</th>\n",
       "      <th>ACE.2</th>\n",
       "      <th>DBF.2</th>\n",
       "      <th>WNR.2</th>\n",
       "      <th>UFE.2</th>\n",
       "      <th>BPC.2</th>\n",
       "      <th>BPW.2</th>\n",
       "      <th>NPA.2</th>\n",
       "      <th>NPW.2</th>\n",
       "      <th>TPW.2</th>\n",
       "      <th>ST1.2</th>\n",
       "      <th>ST2.2</th>\n",
       "      <th>ST3.2</th>\n",
       "      <th>ST4.2</th>\n",
       "      <th>ST5.2</th>\n",
       "    </tr>\n",
       "  </thead>\n",
       "  <tbody>\n",
       "    <tr>\n",
       "      <th>0</th>\n",
       "      <td>0</td>\n",
       "      <td>FrenchOpen</td>\n",
       "      <td>men</td>\n",
       "      <td>2013</td>\n",
       "      <td>Jarkko Nieminen</td>\n",
       "      <td>Paul-Henri Mathieu</td>\n",
       "      <td>1</td>\n",
       "      <td>1</td>\n",
       "      <td>3</td>\n",
       "      <td>2</td>\n",
       "      <td>69</td>\n",
       "      <td>84</td>\n",
       "      <td>31</td>\n",
       "      <td>29</td>\n",
       "      <td>11.0</td>\n",
       "      <td>4.0</td>\n",
       "      <td>57.0</td>\n",
       "      <td>42.0</td>\n",
       "      <td>6</td>\n",
       "      <td>7</td>\n",
       "      <td>8.0</td>\n",
       "      <td>13.0</td>\n",
       "      <td>172.0</td>\n",
       "      <td>6</td>\n",
       "      <td>4.0</td>\n",
       "      <td>7.0</td>\n",
       "      <td>4.0</td>\n",
       "      <td>6.0</td>\n",
       "      <td>54</td>\n",
       "      <td>58</td>\n",
       "      <td>46</td>\n",
       "      <td>36</td>\n",
       "      <td>7.0</td>\n",
       "      <td>8.0</td>\n",
       "      <td>60.0</td>\n",
       "      <td>71.0</td>\n",
       "      <td>5</td>\n",
       "      <td>15</td>\n",
       "      <td>24.0</td>\n",
       "      <td>33.0</td>\n",
       "      <td>163.0</td>\n",
       "      <td>4</td>\n",
       "      <td>6.0</td>\n",
       "      <td>6.0</td>\n",
       "      <td>6.0</td>\n",
       "      <td>2.0</td>\n",
       "    </tr>\n",
       "    <tr>\n",
       "      <th>1</th>\n",
       "      <td>3</td>\n",
       "      <td>AusOpen</td>\n",
       "      <td>women</td>\n",
       "      <td>2013</td>\n",
       "      <td>Varvara Lepchenko</td>\n",
       "      <td>Simona Halep</td>\n",
       "      <td>2</td>\n",
       "      <td>0</td>\n",
       "      <td>1</td>\n",
       "      <td>2</td>\n",
       "      <td>63</td>\n",
       "      <td>34</td>\n",
       "      <td>37</td>\n",
       "      <td>10</td>\n",
       "      <td>1.0</td>\n",
       "      <td>4.0</td>\n",
       "      <td>23.0</td>\n",
       "      <td>47.0</td>\n",
       "      <td>2</td>\n",
       "      <td>2</td>\n",
       "      <td>9.0</td>\n",
       "      <td>10.0</td>\n",
       "      <td>66.0</td>\n",
       "      <td>6</td>\n",
       "      <td>0.0</td>\n",
       "      <td>1.0</td>\n",
       "      <td>NaN</td>\n",
       "      <td>NaN</td>\n",
       "      <td>58</td>\n",
       "      <td>29</td>\n",
       "      <td>42</td>\n",
       "      <td>16</td>\n",
       "      <td>0.0</td>\n",
       "      <td>3.0</td>\n",
       "      <td>10.0</td>\n",
       "      <td>19.0</td>\n",
       "      <td>6</td>\n",
       "      <td>15</td>\n",
       "      <td>1.0</td>\n",
       "      <td>2.0</td>\n",
       "      <td>90.0</td>\n",
       "      <td>4</td>\n",
       "      <td>6.0</td>\n",
       "      <td>6.0</td>\n",
       "      <td>NaN</td>\n",
       "      <td>NaN</td>\n",
       "    </tr>\n",
       "    <tr>\n",
       "      <th>2</th>\n",
       "      <td>4</td>\n",
       "      <td>Wimbledon</td>\n",
       "      <td>women</td>\n",
       "      <td>2013</td>\n",
       "      <td>H.Watson</td>\n",
       "      <td>M.Keys</td>\n",
       "      <td>1</td>\n",
       "      <td>0</td>\n",
       "      <td>0</td>\n",
       "      <td>2</td>\n",
       "      <td>53</td>\n",
       "      <td>18</td>\n",
       "      <td>47</td>\n",
       "      <td>13</td>\n",
       "      <td>4.0</td>\n",
       "      <td>2.0</td>\n",
       "      <td>11.0</td>\n",
       "      <td>15.0</td>\n",
       "      <td>5</td>\n",
       "      <td>2</td>\n",
       "      <td>7.0</td>\n",
       "      <td>4.0</td>\n",
       "      <td>NaN</td>\n",
       "      <td>3</td>\n",
       "      <td>5.0</td>\n",
       "      <td>NaN</td>\n",
       "      <td>NaN</td>\n",
       "      <td>NaN</td>\n",
       "      <td>63</td>\n",
       "      <td>25</td>\n",
       "      <td>37</td>\n",
       "      <td>10</td>\n",
       "      <td>8.0</td>\n",
       "      <td>2.0</td>\n",
       "      <td>23.0</td>\n",
       "      <td>18.0</td>\n",
       "      <td>7</td>\n",
       "      <td>5</td>\n",
       "      <td>8.0</td>\n",
       "      <td>5.0</td>\n",
       "      <td>NaN</td>\n",
       "      <td>6</td>\n",
       "      <td>7.0</td>\n",
       "      <td>NaN</td>\n",
       "      <td>NaN</td>\n",
       "      <td>NaN</td>\n",
       "    </tr>\n",
       "    <tr>\n",
       "      <th>3</th>\n",
       "      <td>7</td>\n",
       "      <td>USOpen</td>\n",
       "      <td>women</td>\n",
       "      <td>2013</td>\n",
       "      <td>S Williams</td>\n",
       "      <td>F Schiavone</td>\n",
       "      <td>1</td>\n",
       "      <td>1</td>\n",
       "      <td>2</td>\n",
       "      <td>0</td>\n",
       "      <td>51</td>\n",
       "      <td>13</td>\n",
       "      <td>49</td>\n",
       "      <td>12</td>\n",
       "      <td>1.0</td>\n",
       "      <td>0.0</td>\n",
       "      <td>13.0</td>\n",
       "      <td>8.0</td>\n",
       "      <td>9</td>\n",
       "      <td>6</td>\n",
       "      <td>8.0</td>\n",
       "      <td>6.0</td>\n",
       "      <td>NaN</td>\n",
       "      <td>6</td>\n",
       "      <td>6.0</td>\n",
       "      <td>NaN</td>\n",
       "      <td>NaN</td>\n",
       "      <td>NaN</td>\n",
       "      <td>43</td>\n",
       "      <td>8</td>\n",
       "      <td>57</td>\n",
       "      <td>5</td>\n",
       "      <td>0.0</td>\n",
       "      <td>8.0</td>\n",
       "      <td>3.0</td>\n",
       "      <td>18.0</td>\n",
       "      <td>0</td>\n",
       "      <td>0</td>\n",
       "      <td>6.0</td>\n",
       "      <td>3.0</td>\n",
       "      <td>NaN</td>\n",
       "      <td>0</td>\n",
       "      <td>1.0</td>\n",
       "      <td>NaN</td>\n",
       "      <td>NaN</td>\n",
       "      <td>NaN</td>\n",
       "    </tr>\n",
       "    <tr>\n",
       "      <th>4</th>\n",
       "      <td>9</td>\n",
       "      <td>AusOpen</td>\n",
       "      <td>women</td>\n",
       "      <td>2013</td>\n",
       "      <td>Tadeja Majeric</td>\n",
       "      <td>Ajla Tomljanovic</td>\n",
       "      <td>1</td>\n",
       "      <td>0</td>\n",
       "      <td>1</td>\n",
       "      <td>2</td>\n",
       "      <td>72</td>\n",
       "      <td>54</td>\n",
       "      <td>28</td>\n",
       "      <td>10</td>\n",
       "      <td>4.0</td>\n",
       "      <td>7.0</td>\n",
       "      <td>4.0</td>\n",
       "      <td>7.0</td>\n",
       "      <td>3</td>\n",
       "      <td>6</td>\n",
       "      <td>NaN</td>\n",
       "      <td>NaN</td>\n",
       "      <td>99.0</td>\n",
       "      <td>6</td>\n",
       "      <td>6.0</td>\n",
       "      <td>4.0</td>\n",
       "      <td>NaN</td>\n",
       "      <td>NaN</td>\n",
       "      <td>49</td>\n",
       "      <td>36</td>\n",
       "      <td>51</td>\n",
       "      <td>25</td>\n",
       "      <td>5.0</td>\n",
       "      <td>6.0</td>\n",
       "      <td>5.0</td>\n",
       "      <td>6.0</td>\n",
       "      <td>3</td>\n",
       "      <td>6</td>\n",
       "      <td>NaN</td>\n",
       "      <td>NaN</td>\n",
       "      <td>97.0</td>\n",
       "      <td>3</td>\n",
       "      <td>7.0</td>\n",
       "      <td>6.0</td>\n",
       "      <td>NaN</td>\n",
       "      <td>NaN</td>\n",
       "    </tr>\n",
       "  </tbody>\n",
       "</table>\n",
       "</div>"
      ],
      "text/plain": [
       "   id  Tournament    Sex  Year            Player1             Player2  Round  \\\n",
       "0   0  FrenchOpen    men  2013    Jarkko Nieminen  Paul-Henri Mathieu      1   \n",
       "1   3     AusOpen  women  2013  Varvara Lepchenko        Simona Halep      2   \n",
       "2   4   Wimbledon  women  2013           H.Watson              M.Keys      1   \n",
       "3   7      USOpen  women  2013         S Williams         F Schiavone      1   \n",
       "4   9     AusOpen  women  2013     Tadeja Majeric    Ajla Tomljanovic      1   \n",
       "\n",
       "   Result  FNL.1  FNL.2  FSP.1  FSW.1  SSP.1  SSW.1  ACE.1  DBF.1  WNR.1  \\\n",
       "0       1      3      2     69     84     31     29   11.0    4.0   57.0   \n",
       "1       0      1      2     63     34     37     10    1.0    4.0   23.0   \n",
       "2       0      0      2     53     18     47     13    4.0    2.0   11.0   \n",
       "3       1      2      0     51     13     49     12    1.0    0.0   13.0   \n",
       "4       0      1      2     72     54     28     10    4.0    7.0    4.0   \n",
       "\n",
       "   UFE.1  BPC.1  BPW.1  NPA.1  NPW.1  TPW.1  ST1.1  ST2.1  ST3.1  ST4.1  \\\n",
       "0   42.0      6      7    8.0   13.0  172.0      6    4.0    7.0    4.0   \n",
       "1   47.0      2      2    9.0   10.0   66.0      6    0.0    1.0    NaN   \n",
       "2   15.0      5      2    7.0    4.0    NaN      3    5.0    NaN    NaN   \n",
       "3    8.0      9      6    8.0    6.0    NaN      6    6.0    NaN    NaN   \n",
       "4    7.0      3      6    NaN    NaN   99.0      6    6.0    4.0    NaN   \n",
       "\n",
       "   ST5.1  FSP.2  FSW.2  SSP.2  SSW.2  ACE.2  DBF.2  WNR.2  UFE.2  BPC.2  \\\n",
       "0    6.0     54     58     46     36    7.0    8.0   60.0   71.0      5   \n",
       "1    NaN     58     29     42     16    0.0    3.0   10.0   19.0      6   \n",
       "2    NaN     63     25     37     10    8.0    2.0   23.0   18.0      7   \n",
       "3    NaN     43      8     57      5    0.0    8.0    3.0   18.0      0   \n",
       "4    NaN     49     36     51     25    5.0    6.0    5.0    6.0      3   \n",
       "\n",
       "   BPW.2  NPA.2  NPW.2  TPW.2  ST1.2  ST2.2  ST3.2  ST4.2  ST5.2  \n",
       "0     15   24.0   33.0  163.0      4    6.0    6.0    6.0    2.0  \n",
       "1     15    1.0    2.0   90.0      4    6.0    6.0    NaN    NaN  \n",
       "2      5    8.0    5.0    NaN      6    7.0    NaN    NaN    NaN  \n",
       "3      0    6.0    3.0    NaN      0    1.0    NaN    NaN    NaN  \n",
       "4      6    NaN    NaN   97.0      3    7.0    6.0    NaN    NaN  "
      ]
     },
     "execution_count": 3,
     "metadata": {},
     "output_type": "execute_result"
    }
   ],
   "source": [
    "train_df.head()"
   ]
  },
  {
   "cell_type": "code",
   "execution_count": 4,
   "metadata": {},
   "outputs": [
    {
     "data": {
      "text/html": [
       "<div>\n",
       "<style scoped>\n",
       "    .dataframe tbody tr th:only-of-type {\n",
       "        vertical-align: middle;\n",
       "    }\n",
       "\n",
       "    .dataframe tbody tr th {\n",
       "        vertical-align: top;\n",
       "    }\n",
       "\n",
       "    .dataframe thead th {\n",
       "        text-align: right;\n",
       "    }\n",
       "</style>\n",
       "<table border=\"1\" class=\"dataframe\">\n",
       "  <thead>\n",
       "    <tr style=\"text-align: right;\">\n",
       "      <th></th>\n",
       "      <th>id</th>\n",
       "      <th>Tournament</th>\n",
       "      <th>Sex</th>\n",
       "      <th>Year</th>\n",
       "      <th>Player1</th>\n",
       "      <th>Player2</th>\n",
       "      <th>Round</th>\n",
       "      <th>FNL.1</th>\n",
       "      <th>FNL.2</th>\n",
       "      <th>FSP.1</th>\n",
       "      <th>FSW.1</th>\n",
       "      <th>SSP.1</th>\n",
       "      <th>SSW.1</th>\n",
       "      <th>ACE.1</th>\n",
       "      <th>DBF.1</th>\n",
       "      <th>WNR.1</th>\n",
       "      <th>UFE.1</th>\n",
       "      <th>BPC.1</th>\n",
       "      <th>BPW.1</th>\n",
       "      <th>NPA.1</th>\n",
       "      <th>NPW.1</th>\n",
       "      <th>TPW.1</th>\n",
       "      <th>ST1.1</th>\n",
       "      <th>ST2.1</th>\n",
       "      <th>ST3.1</th>\n",
       "      <th>ST4.1</th>\n",
       "      <th>ST5.1</th>\n",
       "      <th>FSP.2</th>\n",
       "      <th>FSW.2</th>\n",
       "      <th>SSP.2</th>\n",
       "      <th>SSW.2</th>\n",
       "      <th>ACE.2</th>\n",
       "      <th>DBF.2</th>\n",
       "      <th>WNR.2</th>\n",
       "      <th>UFE.2</th>\n",
       "      <th>BPC.2</th>\n",
       "      <th>BPW.2</th>\n",
       "      <th>NPA.2</th>\n",
       "      <th>NPW.2</th>\n",
       "      <th>TPW.2</th>\n",
       "      <th>ST1.2</th>\n",
       "      <th>ST2.2</th>\n",
       "      <th>ST3.2</th>\n",
       "      <th>ST4.2</th>\n",
       "      <th>ST5.2</th>\n",
       "    </tr>\n",
       "  </thead>\n",
       "  <tbody>\n",
       "    <tr>\n",
       "      <th>0</th>\n",
       "      <td>1</td>\n",
       "      <td>Wimbledon</td>\n",
       "      <td>women</td>\n",
       "      <td>2013</td>\n",
       "      <td>A.Radwanska</td>\n",
       "      <td>M.Keys</td>\n",
       "      <td>3</td>\n",
       "      <td>2.0</td>\n",
       "      <td>1.0</td>\n",
       "      <td>71</td>\n",
       "      <td>55</td>\n",
       "      <td>29</td>\n",
       "      <td>18</td>\n",
       "      <td>2.0</td>\n",
       "      <td>1.0</td>\n",
       "      <td>23.0</td>\n",
       "      <td>10.0</td>\n",
       "      <td>18.0</td>\n",
       "      <td>3.0</td>\n",
       "      <td>31.0</td>\n",
       "      <td>20.0</td>\n",
       "      <td>NaN</td>\n",
       "      <td>7.0</td>\n",
       "      <td>4.0</td>\n",
       "      <td>6.0</td>\n",
       "      <td>NaN</td>\n",
       "      <td>NaN</td>\n",
       "      <td>61</td>\n",
       "      <td>53</td>\n",
       "      <td>39</td>\n",
       "      <td>16</td>\n",
       "      <td>15.0</td>\n",
       "      <td>1.0</td>\n",
       "      <td>67.0</td>\n",
       "      <td>51.0</td>\n",
       "      <td>10.0</td>\n",
       "      <td>2.0</td>\n",
       "      <td>34.0</td>\n",
       "      <td>22.0</td>\n",
       "      <td>NaN</td>\n",
       "      <td>5.0</td>\n",
       "      <td>6.0</td>\n",
       "      <td>3.0</td>\n",
       "      <td>NaN</td>\n",
       "      <td>NaN</td>\n",
       "    </tr>\n",
       "    <tr>\n",
       "      <th>1</th>\n",
       "      <td>2</td>\n",
       "      <td>AusOpen</td>\n",
       "      <td>men</td>\n",
       "      <td>2013</td>\n",
       "      <td>Nick Kyrgios</td>\n",
       "      <td>Benjamin Becker</td>\n",
       "      <td>1</td>\n",
       "      <td>3.0</td>\n",
       "      <td>1.0</td>\n",
       "      <td>54</td>\n",
       "      <td>60</td>\n",
       "      <td>46</td>\n",
       "      <td>25</td>\n",
       "      <td>34.0</td>\n",
       "      <td>13.0</td>\n",
       "      <td>71.0</td>\n",
       "      <td>52.0</td>\n",
       "      <td>6.0</td>\n",
       "      <td>8.0</td>\n",
       "      <td>5.0</td>\n",
       "      <td>8.0</td>\n",
       "      <td>133.0</td>\n",
       "      <td>6.0</td>\n",
       "      <td>6.0</td>\n",
       "      <td>6.0</td>\n",
       "      <td>7.0</td>\n",
       "      <td>NaN</td>\n",
       "      <td>53</td>\n",
       "      <td>45</td>\n",
       "      <td>47</td>\n",
       "      <td>31</td>\n",
       "      <td>12.0</td>\n",
       "      <td>5.0</td>\n",
       "      <td>38.0</td>\n",
       "      <td>36.0</td>\n",
       "      <td>3.0</td>\n",
       "      <td>7.0</td>\n",
       "      <td>6.0</td>\n",
       "      <td>6.0</td>\n",
       "      <td>114.0</td>\n",
       "      <td>3.0</td>\n",
       "      <td>7.0</td>\n",
       "      <td>2.0</td>\n",
       "      <td>6.0</td>\n",
       "      <td>NaN</td>\n",
       "    </tr>\n",
       "    <tr>\n",
       "      <th>2</th>\n",
       "      <td>5</td>\n",
       "      <td>Wimbledon</td>\n",
       "      <td>men</td>\n",
       "      <td>2013</td>\n",
       "      <td>V.Pospisil</td>\n",
       "      <td>M.Youzhny</td>\n",
       "      <td>2</td>\n",
       "      <td>2.0</td>\n",
       "      <td>3.0</td>\n",
       "      <td>63</td>\n",
       "      <td>83</td>\n",
       "      <td>37</td>\n",
       "      <td>25</td>\n",
       "      <td>26.0</td>\n",
       "      <td>2.0</td>\n",
       "      <td>66.0</td>\n",
       "      <td>27.0</td>\n",
       "      <td>7.0</td>\n",
       "      <td>2.0</td>\n",
       "      <td>61.0</td>\n",
       "      <td>39.0</td>\n",
       "      <td>NaN</td>\n",
       "      <td>2.0</td>\n",
       "      <td>7.0</td>\n",
       "      <td>6.0</td>\n",
       "      <td>6.0</td>\n",
       "      <td>4.0</td>\n",
       "      <td>64</td>\n",
       "      <td>76</td>\n",
       "      <td>36</td>\n",
       "      <td>39</td>\n",
       "      <td>8.0</td>\n",
       "      <td>2.0</td>\n",
       "      <td>53.0</td>\n",
       "      <td>20.0</td>\n",
       "      <td>7.0</td>\n",
       "      <td>4.0</td>\n",
       "      <td>46.0</td>\n",
       "      <td>32.0</td>\n",
       "      <td>NaN</td>\n",
       "      <td>6.0</td>\n",
       "      <td>6.0</td>\n",
       "      <td>7.0</td>\n",
       "      <td>3.0</td>\n",
       "      <td>6.0</td>\n",
       "    </tr>\n",
       "    <tr>\n",
       "      <th>3</th>\n",
       "      <td>6</td>\n",
       "      <td>FrenchOpen</td>\n",
       "      <td>women</td>\n",
       "      <td>2013</td>\n",
       "      <td>Caroline Wozniacki</td>\n",
       "      <td>Bojana Jovanovski</td>\n",
       "      <td>2</td>\n",
       "      <td>0.0</td>\n",
       "      <td>2.0</td>\n",
       "      <td>70</td>\n",
       "      <td>29</td>\n",
       "      <td>30</td>\n",
       "      <td>10</td>\n",
       "      <td>1.0</td>\n",
       "      <td>3.0</td>\n",
       "      <td>13.0</td>\n",
       "      <td>18.0</td>\n",
       "      <td>2.0</td>\n",
       "      <td>3.0</td>\n",
       "      <td>5.0</td>\n",
       "      <td>7.0</td>\n",
       "      <td>62.0</td>\n",
       "      <td>6.0</td>\n",
       "      <td>3.0</td>\n",
       "      <td>NaN</td>\n",
       "      <td>NaN</td>\n",
       "      <td>NaN</td>\n",
       "      <td>68</td>\n",
       "      <td>34</td>\n",
       "      <td>32</td>\n",
       "      <td>8</td>\n",
       "      <td>3.0</td>\n",
       "      <td>1.0</td>\n",
       "      <td>33.0</td>\n",
       "      <td>32.0</td>\n",
       "      <td>3.0</td>\n",
       "      <td>7.0</td>\n",
       "      <td>2.0</td>\n",
       "      <td>5.0</td>\n",
       "      <td>72.0</td>\n",
       "      <td>7.0</td>\n",
       "      <td>6.0</td>\n",
       "      <td>NaN</td>\n",
       "      <td>NaN</td>\n",
       "      <td>NaN</td>\n",
       "    </tr>\n",
       "    <tr>\n",
       "      <th>4</th>\n",
       "      <td>8</td>\n",
       "      <td>Wimbledon</td>\n",
       "      <td>men</td>\n",
       "      <td>2013</td>\n",
       "      <td>N.Djokovic</td>\n",
       "      <td>J.Chardy</td>\n",
       "      <td>3</td>\n",
       "      <td>3.0</td>\n",
       "      <td>0.0</td>\n",
       "      <td>74</td>\n",
       "      <td>40</td>\n",
       "      <td>26</td>\n",
       "      <td>12</td>\n",
       "      <td>8.0</td>\n",
       "      <td>1.0</td>\n",
       "      <td>38.0</td>\n",
       "      <td>3.0</td>\n",
       "      <td>16.0</td>\n",
       "      <td>5.0</td>\n",
       "      <td>21.0</td>\n",
       "      <td>18.0</td>\n",
       "      <td>NaN</td>\n",
       "      <td>6.0</td>\n",
       "      <td>6.0</td>\n",
       "      <td>6.0</td>\n",
       "      <td>NaN</td>\n",
       "      <td>NaN</td>\n",
       "      <td>66</td>\n",
       "      <td>32</td>\n",
       "      <td>34</td>\n",
       "      <td>15</td>\n",
       "      <td>6.0</td>\n",
       "      <td>4.0</td>\n",
       "      <td>18.0</td>\n",
       "      <td>14.0</td>\n",
       "      <td>0.0</td>\n",
       "      <td>0.0</td>\n",
       "      <td>23.0</td>\n",
       "      <td>12.0</td>\n",
       "      <td>NaN</td>\n",
       "      <td>3.0</td>\n",
       "      <td>2.0</td>\n",
       "      <td>2.0</td>\n",
       "      <td>NaN</td>\n",
       "      <td>NaN</td>\n",
       "    </tr>\n",
       "  </tbody>\n",
       "</table>\n",
       "</div>"
      ],
      "text/plain": [
       "   id  Tournament    Sex  Year             Player1            Player2  Round  \\\n",
       "0   1   Wimbledon  women  2013         A.Radwanska             M.Keys      3   \n",
       "1   2     AusOpen    men  2013        Nick Kyrgios    Benjamin Becker      1   \n",
       "2   5   Wimbledon    men  2013          V.Pospisil          M.Youzhny      2   \n",
       "3   6  FrenchOpen  women  2013  Caroline Wozniacki  Bojana Jovanovski      2   \n",
       "4   8   Wimbledon    men  2013          N.Djokovic           J.Chardy      3   \n",
       "\n",
       "   FNL.1  FNL.2  FSP.1  FSW.1  SSP.1  SSW.1  ACE.1  DBF.1  WNR.1  UFE.1  \\\n",
       "0    2.0    1.0     71     55     29     18    2.0    1.0   23.0   10.0   \n",
       "1    3.0    1.0     54     60     46     25   34.0   13.0   71.0   52.0   \n",
       "2    2.0    3.0     63     83     37     25   26.0    2.0   66.0   27.0   \n",
       "3    0.0    2.0     70     29     30     10    1.0    3.0   13.0   18.0   \n",
       "4    3.0    0.0     74     40     26     12    8.0    1.0   38.0    3.0   \n",
       "\n",
       "   BPC.1  BPW.1  NPA.1  NPW.1  TPW.1  ST1.1  ST2.1  ST3.1  ST4.1  ST5.1  \\\n",
       "0   18.0    3.0   31.0   20.0    NaN    7.0    4.0    6.0    NaN    NaN   \n",
       "1    6.0    8.0    5.0    8.0  133.0    6.0    6.0    6.0    7.0    NaN   \n",
       "2    7.0    2.0   61.0   39.0    NaN    2.0    7.0    6.0    6.0    4.0   \n",
       "3    2.0    3.0    5.0    7.0   62.0    6.0    3.0    NaN    NaN    NaN   \n",
       "4   16.0    5.0   21.0   18.0    NaN    6.0    6.0    6.0    NaN    NaN   \n",
       "\n",
       "   FSP.2  FSW.2  SSP.2  SSW.2  ACE.2  DBF.2  WNR.2  UFE.2  BPC.2  BPW.2  \\\n",
       "0     61     53     39     16   15.0    1.0   67.0   51.0   10.0    2.0   \n",
       "1     53     45     47     31   12.0    5.0   38.0   36.0    3.0    7.0   \n",
       "2     64     76     36     39    8.0    2.0   53.0   20.0    7.0    4.0   \n",
       "3     68     34     32      8    3.0    1.0   33.0   32.0    3.0    7.0   \n",
       "4     66     32     34     15    6.0    4.0   18.0   14.0    0.0    0.0   \n",
       "\n",
       "   NPA.2  NPW.2  TPW.2  ST1.2  ST2.2  ST3.2  ST4.2  ST5.2  \n",
       "0   34.0   22.0    NaN    5.0    6.0    3.0    NaN    NaN  \n",
       "1    6.0    6.0  114.0    3.0    7.0    2.0    6.0    NaN  \n",
       "2   46.0   32.0    NaN    6.0    6.0    7.0    3.0    6.0  \n",
       "3    2.0    5.0   72.0    7.0    6.0    NaN    NaN    NaN  \n",
       "4   23.0   12.0    NaN    3.0    2.0    2.0    NaN    NaN  "
      ]
     },
     "execution_count": 4,
     "metadata": {},
     "output_type": "execute_result"
    }
   ],
   "source": [
    "test_df.head()"
   ]
  },
  {
   "cell_type": "code",
   "execution_count": 5,
   "metadata": {},
   "outputs": [
    {
     "data": {
      "text/plain": [
       "(471, 46)"
      ]
     },
     "execution_count": 5,
     "metadata": {},
     "output_type": "execute_result"
    }
   ],
   "source": [
    "train_df.shape"
   ]
  },
  {
   "cell_type": "code",
   "execution_count": 6,
   "metadata": {},
   "outputs": [
    {
     "data": {
      "text/plain": [
       "(472, 45)"
      ]
     },
     "execution_count": 6,
     "metadata": {},
     "output_type": "execute_result"
    }
   ],
   "source": [
    "test_df.shape"
   ]
  },
  {
   "cell_type": "code",
   "execution_count": 7,
   "metadata": {},
   "outputs": [
    {
     "data": {
      "text/plain": [
       "id              0\n",
       "Tournament      0\n",
       "Sex             0\n",
       "Year            0\n",
       "Player1         0\n",
       "Player2         0\n",
       "Round           0\n",
       "Result          0\n",
       "FNL.1           0\n",
       "FNL.2           0\n",
       "FSP.1           0\n",
       "FSW.1           0\n",
       "SSP.1           0\n",
       "SSW.1           0\n",
       "ACE.1           9\n",
       "DBF.1           3\n",
       "WNR.1          63\n",
       "UFE.1          63\n",
       "BPC.1           0\n",
       "BPW.1           0\n",
       "NPA.1          45\n",
       "NPW.1          44\n",
       "TPW.1         156\n",
       "ST1.1           0\n",
       "ST2.1           2\n",
       "ST3.1         157\n",
       "ST4.1         342\n",
       "ST5.1         420\n",
       "FSP.2           0\n",
       "FSW.2           0\n",
       "SSP.2           0\n",
       "SSW.2           0\n",
       "ACE.2           9\n",
       "DBF.2           3\n",
       "WNR.2          63\n",
       "UFE.2          63\n",
       "BPC.2           0\n",
       "BPW.2           0\n",
       "NPA.2          45\n",
       "NPW.2          44\n",
       "TPW.2         156\n",
       "ST1.2           0\n",
       "ST2.2           2\n",
       "ST3.2         157\n",
       "ST4.2         342\n",
       "ST5.2         420\n",
       "dtype: int64"
      ]
     },
     "execution_count": 7,
     "metadata": {},
     "output_type": "execute_result"
    }
   ],
   "source": [
    "train_df.isnull().sum()"
   ]
  },
  {
   "cell_type": "code",
   "execution_count": 8,
   "metadata": {},
   "outputs": [
    {
     "data": {
      "text/plain": [
       "id              0\n",
       "Tournament      0\n",
       "Sex             0\n",
       "Year            0\n",
       "Player1         0\n",
       "Player2         0\n",
       "Round           0\n",
       "FNL.1           1\n",
       "FNL.2           1\n",
       "FSP.1           0\n",
       "FSW.1           0\n",
       "SSP.1           0\n",
       "SSW.1           0\n",
       "ACE.1          13\n",
       "DBF.1           5\n",
       "WNR.1          63\n",
       "UFE.1          63\n",
       "BPC.1           1\n",
       "BPW.1           1\n",
       "NPA.1          39\n",
       "NPW.1          39\n",
       "TPW.1         156\n",
       "ST1.1           1\n",
       "ST2.1           2\n",
       "ST3.1         164\n",
       "ST4.1         380\n",
       "ST5.1         437\n",
       "FSP.2           0\n",
       "FSW.2           0\n",
       "SSP.2           0\n",
       "SSW.2           0\n",
       "ACE.2          13\n",
       "DBF.2           5\n",
       "WNR.2          63\n",
       "UFE.2          63\n",
       "BPC.2           1\n",
       "BPW.2           1\n",
       "NPA.2          39\n",
       "NPW.2          39\n",
       "TPW.2         156\n",
       "ST1.2           1\n",
       "ST2.2           2\n",
       "ST3.2         164\n",
       "ST4.2         380\n",
       "ST5.2         437\n",
       "dtype: int64"
      ]
     },
     "execution_count": 8,
     "metadata": {},
     "output_type": "execute_result"
    }
   ],
   "source": [
    "test_df.isnull().sum()"
   ]
  },
  {
   "cell_type": "code",
   "execution_count": 9,
   "metadata": {},
   "outputs": [
    {
     "name": "stdout",
     "output_type": "stream",
     "text": [
      "<class 'pandas.core.frame.DataFrame'>\n",
      "RangeIndex: 471 entries, 0 to 470\n",
      "Data columns (total 46 columns):\n",
      " #   Column      Non-Null Count  Dtype  \n",
      "---  ------      --------------  -----  \n",
      " 0   id          471 non-null    int64  \n",
      " 1   Tournament  471 non-null    object \n",
      " 2   Sex         471 non-null    object \n",
      " 3   Year        471 non-null    int64  \n",
      " 4   Player1     471 non-null    object \n",
      " 5   Player2     471 non-null    object \n",
      " 6   Round       471 non-null    int64  \n",
      " 7   Result      471 non-null    int64  \n",
      " 8   FNL.1       471 non-null    int64  \n",
      " 9   FNL.2       471 non-null    int64  \n",
      " 10  FSP.1       471 non-null    int64  \n",
      " 11  FSW.1       471 non-null    int64  \n",
      " 12  SSP.1       471 non-null    int64  \n",
      " 13  SSW.1       471 non-null    int64  \n",
      " 14  ACE.1       462 non-null    float64\n",
      " 15  DBF.1       468 non-null    float64\n",
      " 16  WNR.1       408 non-null    float64\n",
      " 17  UFE.1       408 non-null    float64\n",
      " 18  BPC.1       471 non-null    int64  \n",
      " 19  BPW.1       471 non-null    int64  \n",
      " 20  NPA.1       426 non-null    float64\n",
      " 21  NPW.1       427 non-null    float64\n",
      " 22  TPW.1       315 non-null    float64\n",
      " 23  ST1.1       471 non-null    int64  \n",
      " 24  ST2.1       469 non-null    float64\n",
      " 25  ST3.1       314 non-null    float64\n",
      " 26  ST4.1       129 non-null    float64\n",
      " 27  ST5.1       51 non-null     float64\n",
      " 28  FSP.2       471 non-null    int64  \n",
      " 29  FSW.2       471 non-null    int64  \n",
      " 30  SSP.2       471 non-null    int64  \n",
      " 31  SSW.2       471 non-null    int64  \n",
      " 32  ACE.2       462 non-null    float64\n",
      " 33  DBF.2       468 non-null    float64\n",
      " 34  WNR.2       408 non-null    float64\n",
      " 35  UFE.2       408 non-null    float64\n",
      " 36  BPC.2       471 non-null    int64  \n",
      " 37  BPW.2       471 non-null    int64  \n",
      " 38  NPA.2       426 non-null    float64\n",
      " 39  NPW.2       427 non-null    float64\n",
      " 40  TPW.2       315 non-null    float64\n",
      " 41  ST1.2       471 non-null    int64  \n",
      " 42  ST2.2       469 non-null    float64\n",
      " 43  ST3.2       314 non-null    float64\n",
      " 44  ST4.2       129 non-null    float64\n",
      " 45  ST5.2       51 non-null     float64\n",
      "dtypes: float64(22), int64(20), object(4)\n",
      "memory usage: 169.4+ KB\n"
     ]
    }
   ],
   "source": [
    "train_df.info()"
   ]
  },
  {
   "cell_type": "code",
   "execution_count": 10,
   "metadata": {},
   "outputs": [],
   "source": [
    "df = pd.concat([train_df, test_df], ignore_index=True)"
   ]
  },
  {
   "cell_type": "code",
   "execution_count": 11,
   "metadata": {},
   "outputs": [
    {
     "data": {
      "text/html": [
       "<div>\n",
       "<style scoped>\n",
       "    .dataframe tbody tr th:only-of-type {\n",
       "        vertical-align: middle;\n",
       "    }\n",
       "\n",
       "    .dataframe tbody tr th {\n",
       "        vertical-align: top;\n",
       "    }\n",
       "\n",
       "    .dataframe thead th {\n",
       "        text-align: right;\n",
       "    }\n",
       "</style>\n",
       "<table border=\"1\" class=\"dataframe\">\n",
       "  <thead>\n",
       "    <tr style=\"text-align: right;\">\n",
       "      <th></th>\n",
       "      <th>id</th>\n",
       "      <th>Year</th>\n",
       "      <th>Round</th>\n",
       "      <th>Result</th>\n",
       "      <th>FNL.1</th>\n",
       "      <th>FNL.2</th>\n",
       "      <th>FSP.1</th>\n",
       "      <th>FSW.1</th>\n",
       "      <th>SSP.1</th>\n",
       "      <th>SSW.1</th>\n",
       "      <th>ACE.1</th>\n",
       "      <th>DBF.1</th>\n",
       "      <th>WNR.1</th>\n",
       "      <th>UFE.1</th>\n",
       "      <th>BPC.1</th>\n",
       "      <th>BPW.1</th>\n",
       "      <th>NPA.1</th>\n",
       "      <th>NPW.1</th>\n",
       "      <th>TPW.1</th>\n",
       "      <th>ST1.1</th>\n",
       "      <th>ST2.1</th>\n",
       "      <th>ST3.1</th>\n",
       "      <th>ST4.1</th>\n",
       "      <th>ST5.1</th>\n",
       "      <th>FSP.2</th>\n",
       "      <th>FSW.2</th>\n",
       "      <th>SSP.2</th>\n",
       "      <th>SSW.2</th>\n",
       "      <th>ACE.2</th>\n",
       "      <th>DBF.2</th>\n",
       "      <th>WNR.2</th>\n",
       "      <th>UFE.2</th>\n",
       "      <th>BPC.2</th>\n",
       "      <th>BPW.2</th>\n",
       "      <th>NPA.2</th>\n",
       "      <th>NPW.2</th>\n",
       "      <th>TPW.2</th>\n",
       "      <th>ST1.2</th>\n",
       "      <th>ST2.2</th>\n",
       "      <th>ST3.2</th>\n",
       "      <th>ST4.2</th>\n",
       "      <th>ST5.2</th>\n",
       "    </tr>\n",
       "  </thead>\n",
       "  <tbody>\n",
       "    <tr>\n",
       "      <th>count</th>\n",
       "      <td>943.000000</td>\n",
       "      <td>943.0</td>\n",
       "      <td>943.000000</td>\n",
       "      <td>471.000000</td>\n",
       "      <td>942.000000</td>\n",
       "      <td>942.000000</td>\n",
       "      <td>943.000000</td>\n",
       "      <td>943.000000</td>\n",
       "      <td>943.000000</td>\n",
       "      <td>943.000000</td>\n",
       "      <td>921.000000</td>\n",
       "      <td>935.000000</td>\n",
       "      <td>817.000000</td>\n",
       "      <td>817.000000</td>\n",
       "      <td>942.000000</td>\n",
       "      <td>942.000000</td>\n",
       "      <td>859.000000</td>\n",
       "      <td>860.000000</td>\n",
       "      <td>631.000000</td>\n",
       "      <td>942.000000</td>\n",
       "      <td>939.000000</td>\n",
       "      <td>622.000000</td>\n",
       "      <td>221.000000</td>\n",
       "      <td>86.000000</td>\n",
       "      <td>943.000000</td>\n",
       "      <td>943.000000</td>\n",
       "      <td>943.000000</td>\n",
       "      <td>943.000000</td>\n",
       "      <td>921.000000</td>\n",
       "      <td>935.000000</td>\n",
       "      <td>817.000000</td>\n",
       "      <td>817.000000</td>\n",
       "      <td>942.000000</td>\n",
       "      <td>942.000000</td>\n",
       "      <td>859.000000</td>\n",
       "      <td>860.000000</td>\n",
       "      <td>631.000000</td>\n",
       "      <td>942.000000</td>\n",
       "      <td>939.000000</td>\n",
       "      <td>622.000000</td>\n",
       "      <td>221.000000</td>\n",
       "      <td>86.000000</td>\n",
       "    </tr>\n",
       "    <tr>\n",
       "      <th>mean</th>\n",
       "      <td>471.000000</td>\n",
       "      <td>2013.0</td>\n",
       "      <td>1.844115</td>\n",
       "      <td>0.475584</td>\n",
       "      <td>1.490446</td>\n",
       "      <td>1.492569</td>\n",
       "      <td>62.256628</td>\n",
       "      <td>38.785790</td>\n",
       "      <td>37.785790</td>\n",
       "      <td>16.729586</td>\n",
       "      <td>6.140065</td>\n",
       "      <td>3.641711</td>\n",
       "      <td>27.536108</td>\n",
       "      <td>27.281518</td>\n",
       "      <td>5.311040</td>\n",
       "      <td>7.144374</td>\n",
       "      <td>15.541327</td>\n",
       "      <td>17.165116</td>\n",
       "      <td>94.280507</td>\n",
       "      <td>4.801486</td>\n",
       "      <td>4.780618</td>\n",
       "      <td>4.728296</td>\n",
       "      <td>4.787330</td>\n",
       "      <td>4.651163</td>\n",
       "      <td>61.967126</td>\n",
       "      <td>38.688229</td>\n",
       "      <td>38.054083</td>\n",
       "      <td>16.927890</td>\n",
       "      <td>5.982628</td>\n",
       "      <td>3.772193</td>\n",
       "      <td>27.798042</td>\n",
       "      <td>27.676867</td>\n",
       "      <td>5.209130</td>\n",
       "      <td>7.095541</td>\n",
       "      <td>15.942957</td>\n",
       "      <td>17.589535</td>\n",
       "      <td>94.521395</td>\n",
       "      <td>4.816348</td>\n",
       "      <td>4.695421</td>\n",
       "      <td>4.823151</td>\n",
       "      <td>4.710407</td>\n",
       "      <td>5.127907</td>\n",
       "    </tr>\n",
       "    <tr>\n",
       "      <th>std</th>\n",
       "      <td>272.364951</td>\n",
       "      <td>0.0</td>\n",
       "      <td>1.254328</td>\n",
       "      <td>0.499934</td>\n",
       "      <td>1.156883</td>\n",
       "      <td>1.173316</td>\n",
       "      <td>7.921985</td>\n",
       "      <td>17.486747</td>\n",
       "      <td>7.917886</td>\n",
       "      <td>8.607756</td>\n",
       "      <td>5.942014</td>\n",
       "      <td>2.648779</td>\n",
       "      <td>16.197736</td>\n",
       "      <td>14.473321</td>\n",
       "      <td>3.988542</td>\n",
       "      <td>5.128567</td>\n",
       "      <td>11.935007</td>\n",
       "      <td>11.650146</td>\n",
       "      <td>36.555619</td>\n",
       "      <td>1.924140</td>\n",
       "      <td>1.909132</td>\n",
       "      <td>1.982647</td>\n",
       "      <td>1.994315</td>\n",
       "      <td>2.085059</td>\n",
       "      <td>8.372687</td>\n",
       "      <td>17.531238</td>\n",
       "      <td>8.383980</td>\n",
       "      <td>8.736354</td>\n",
       "      <td>6.017341</td>\n",
       "      <td>2.748657</td>\n",
       "      <td>15.752516</td>\n",
       "      <td>15.477795</td>\n",
       "      <td>3.830328</td>\n",
       "      <td>5.026963</td>\n",
       "      <td>12.426671</td>\n",
       "      <td>12.870905</td>\n",
       "      <td>36.974755</td>\n",
       "      <td>1.897262</td>\n",
       "      <td>1.948946</td>\n",
       "      <td>1.868696</td>\n",
       "      <td>1.894329</td>\n",
       "      <td>1.839415</td>\n",
       "    </tr>\n",
       "    <tr>\n",
       "      <th>min</th>\n",
       "      <td>0.000000</td>\n",
       "      <td>2013.0</td>\n",
       "      <td>1.000000</td>\n",
       "      <td>0.000000</td>\n",
       "      <td>0.000000</td>\n",
       "      <td>0.000000</td>\n",
       "      <td>38.000000</td>\n",
       "      <td>3.000000</td>\n",
       "      <td>14.000000</td>\n",
       "      <td>1.000000</td>\n",
       "      <td>0.000000</td>\n",
       "      <td>0.000000</td>\n",
       "      <td>0.000000</td>\n",
       "      <td>0.000000</td>\n",
       "      <td>0.000000</td>\n",
       "      <td>0.000000</td>\n",
       "      <td>0.000000</td>\n",
       "      <td>0.000000</td>\n",
       "      <td>5.000000</td>\n",
       "      <td>0.000000</td>\n",
       "      <td>0.000000</td>\n",
       "      <td>0.000000</td>\n",
       "      <td>0.000000</td>\n",
       "      <td>0.000000</td>\n",
       "      <td>0.000000</td>\n",
       "      <td>0.000000</td>\n",
       "      <td>7.000000</td>\n",
       "      <td>1.000000</td>\n",
       "      <td>0.000000</td>\n",
       "      <td>0.000000</td>\n",
       "      <td>0.000000</td>\n",
       "      <td>0.000000</td>\n",
       "      <td>0.000000</td>\n",
       "      <td>0.000000</td>\n",
       "      <td>0.000000</td>\n",
       "      <td>0.000000</td>\n",
       "      <td>1.000000</td>\n",
       "      <td>0.000000</td>\n",
       "      <td>0.000000</td>\n",
       "      <td>0.000000</td>\n",
       "      <td>0.000000</td>\n",
       "      <td>1.000000</td>\n",
       "    </tr>\n",
       "    <tr>\n",
       "      <th>25%</th>\n",
       "      <td>235.500000</td>\n",
       "      <td>2013.0</td>\n",
       "      <td>1.000000</td>\n",
       "      <td>0.000000</td>\n",
       "      <td>0.000000</td>\n",
       "      <td>0.000000</td>\n",
       "      <td>57.000000</td>\n",
       "      <td>26.000000</td>\n",
       "      <td>33.000000</td>\n",
       "      <td>10.000000</td>\n",
       "      <td>2.000000</td>\n",
       "      <td>2.000000</td>\n",
       "      <td>16.000000</td>\n",
       "      <td>17.000000</td>\n",
       "      <td>2.000000</td>\n",
       "      <td>3.000000</td>\n",
       "      <td>7.000000</td>\n",
       "      <td>8.000000</td>\n",
       "      <td>67.000000</td>\n",
       "      <td>3.000000</td>\n",
       "      <td>4.000000</td>\n",
       "      <td>3.000000</td>\n",
       "      <td>3.000000</td>\n",
       "      <td>3.000000</td>\n",
       "      <td>57.000000</td>\n",
       "      <td>25.000000</td>\n",
       "      <td>33.000000</td>\n",
       "      <td>10.000000</td>\n",
       "      <td>1.000000</td>\n",
       "      <td>2.000000</td>\n",
       "      <td>16.000000</td>\n",
       "      <td>16.000000</td>\n",
       "      <td>2.000000</td>\n",
       "      <td>3.000000</td>\n",
       "      <td>8.000000</td>\n",
       "      <td>8.000000</td>\n",
       "      <td>64.000000</td>\n",
       "      <td>3.000000</td>\n",
       "      <td>3.000000</td>\n",
       "      <td>3.000000</td>\n",
       "      <td>3.000000</td>\n",
       "      <td>4.000000</td>\n",
       "    </tr>\n",
       "    <tr>\n",
       "      <th>50%</th>\n",
       "      <td>471.000000</td>\n",
       "      <td>2013.0</td>\n",
       "      <td>1.000000</td>\n",
       "      <td>0.000000</td>\n",
       "      <td>2.000000</td>\n",
       "      <td>2.000000</td>\n",
       "      <td>62.000000</td>\n",
       "      <td>37.000000</td>\n",
       "      <td>38.000000</td>\n",
       "      <td>15.000000</td>\n",
       "      <td>4.000000</td>\n",
       "      <td>3.000000</td>\n",
       "      <td>25.000000</td>\n",
       "      <td>26.000000</td>\n",
       "      <td>5.000000</td>\n",
       "      <td>6.000000</td>\n",
       "      <td>13.000000</td>\n",
       "      <td>14.500000</td>\n",
       "      <td>91.000000</td>\n",
       "      <td>6.000000</td>\n",
       "      <td>6.000000</td>\n",
       "      <td>6.000000</td>\n",
       "      <td>6.000000</td>\n",
       "      <td>5.000000</td>\n",
       "      <td>62.000000</td>\n",
       "      <td>36.000000</td>\n",
       "      <td>38.000000</td>\n",
       "      <td>16.000000</td>\n",
       "      <td>4.000000</td>\n",
       "      <td>3.000000</td>\n",
       "      <td>26.000000</td>\n",
       "      <td>26.000000</td>\n",
       "      <td>5.000000</td>\n",
       "      <td>6.000000</td>\n",
       "      <td>13.000000</td>\n",
       "      <td>15.000000</td>\n",
       "      <td>92.000000</td>\n",
       "      <td>6.000000</td>\n",
       "      <td>6.000000</td>\n",
       "      <td>6.000000</td>\n",
       "      <td>6.000000</td>\n",
       "      <td>6.000000</td>\n",
       "    </tr>\n",
       "    <tr>\n",
       "      <th>75%</th>\n",
       "      <td>706.500000</td>\n",
       "      <td>2013.0</td>\n",
       "      <td>2.000000</td>\n",
       "      <td>1.000000</td>\n",
       "      <td>2.000000</td>\n",
       "      <td>3.000000</td>\n",
       "      <td>67.000000</td>\n",
       "      <td>49.000000</td>\n",
       "      <td>43.000000</td>\n",
       "      <td>22.000000</td>\n",
       "      <td>8.000000</td>\n",
       "      <td>5.000000</td>\n",
       "      <td>36.000000</td>\n",
       "      <td>36.000000</td>\n",
       "      <td>7.000000</td>\n",
       "      <td>10.000000</td>\n",
       "      <td>20.000000</td>\n",
       "      <td>24.000000</td>\n",
       "      <td>116.000000</td>\n",
       "      <td>6.000000</td>\n",
       "      <td>6.000000</td>\n",
       "      <td>6.000000</td>\n",
       "      <td>6.000000</td>\n",
       "      <td>6.000000</td>\n",
       "      <td>67.000000</td>\n",
       "      <td>48.500000</td>\n",
       "      <td>43.500000</td>\n",
       "      <td>22.000000</td>\n",
       "      <td>9.000000</td>\n",
       "      <td>5.000000</td>\n",
       "      <td>37.000000</td>\n",
       "      <td>37.000000</td>\n",
       "      <td>7.000000</td>\n",
       "      <td>10.000000</td>\n",
       "      <td>21.000000</td>\n",
       "      <td>24.000000</td>\n",
       "      <td>119.000000</td>\n",
       "      <td>6.000000</td>\n",
       "      <td>6.000000</td>\n",
       "      <td>6.000000</td>\n",
       "      <td>6.000000</td>\n",
       "      <td>6.000000</td>\n",
       "    </tr>\n",
       "    <tr>\n",
       "      <th>max</th>\n",
       "      <td>942.000000</td>\n",
       "      <td>2013.0</td>\n",
       "      <td>7.000000</td>\n",
       "      <td>1.000000</td>\n",
       "      <td>3.000000</td>\n",
       "      <td>3.000000</td>\n",
       "      <td>86.000000</td>\n",
       "      <td>109.000000</td>\n",
       "      <td>62.000000</td>\n",
       "      <td>52.000000</td>\n",
       "      <td>41.000000</td>\n",
       "      <td>18.000000</td>\n",
       "      <td>111.000000</td>\n",
       "      <td>89.000000</td>\n",
       "      <td>25.000000</td>\n",
       "      <td>28.000000</td>\n",
       "      <td>96.000000</td>\n",
       "      <td>63.000000</td>\n",
       "      <td>231.000000</td>\n",
       "      <td>7.000000</td>\n",
       "      <td>7.000000</td>\n",
       "      <td>9.000000</td>\n",
       "      <td>7.000000</td>\n",
       "      <td>9.000000</td>\n",
       "      <td>93.000000</td>\n",
       "      <td>132.000000</td>\n",
       "      <td>100.000000</td>\n",
       "      <td>57.000000</td>\n",
       "      <td>39.000000</td>\n",
       "      <td>18.000000</td>\n",
       "      <td>95.000000</td>\n",
       "      <td>96.000000</td>\n",
       "      <td>25.000000</td>\n",
       "      <td>26.000000</td>\n",
       "      <td>82.000000</td>\n",
       "      <td>81.000000</td>\n",
       "      <td>230.000000</td>\n",
       "      <td>7.000000</td>\n",
       "      <td>7.000000</td>\n",
       "      <td>9.000000</td>\n",
       "      <td>7.000000</td>\n",
       "      <td>9.000000</td>\n",
       "    </tr>\n",
       "  </tbody>\n",
       "</table>\n",
       "</div>"
      ],
      "text/plain": [
       "               id    Year       Round      Result       FNL.1       FNL.2  \\\n",
       "count  943.000000   943.0  943.000000  471.000000  942.000000  942.000000   \n",
       "mean   471.000000  2013.0    1.844115    0.475584    1.490446    1.492569   \n",
       "std    272.364951     0.0    1.254328    0.499934    1.156883    1.173316   \n",
       "min      0.000000  2013.0    1.000000    0.000000    0.000000    0.000000   \n",
       "25%    235.500000  2013.0    1.000000    0.000000    0.000000    0.000000   \n",
       "50%    471.000000  2013.0    1.000000    0.000000    2.000000    2.000000   \n",
       "75%    706.500000  2013.0    2.000000    1.000000    2.000000    3.000000   \n",
       "max    942.000000  2013.0    7.000000    1.000000    3.000000    3.000000   \n",
       "\n",
       "            FSP.1       FSW.1       SSP.1       SSW.1       ACE.1       DBF.1  \\\n",
       "count  943.000000  943.000000  943.000000  943.000000  921.000000  935.000000   \n",
       "mean    62.256628   38.785790   37.785790   16.729586    6.140065    3.641711   \n",
       "std      7.921985   17.486747    7.917886    8.607756    5.942014    2.648779   \n",
       "min     38.000000    3.000000   14.000000    1.000000    0.000000    0.000000   \n",
       "25%     57.000000   26.000000   33.000000   10.000000    2.000000    2.000000   \n",
       "50%     62.000000   37.000000   38.000000   15.000000    4.000000    3.000000   \n",
       "75%     67.000000   49.000000   43.000000   22.000000    8.000000    5.000000   \n",
       "max     86.000000  109.000000   62.000000   52.000000   41.000000   18.000000   \n",
       "\n",
       "            WNR.1       UFE.1       BPC.1       BPW.1       NPA.1       NPW.1  \\\n",
       "count  817.000000  817.000000  942.000000  942.000000  859.000000  860.000000   \n",
       "mean    27.536108   27.281518    5.311040    7.144374   15.541327   17.165116   \n",
       "std     16.197736   14.473321    3.988542    5.128567   11.935007   11.650146   \n",
       "min      0.000000    0.000000    0.000000    0.000000    0.000000    0.000000   \n",
       "25%     16.000000   17.000000    2.000000    3.000000    7.000000    8.000000   \n",
       "50%     25.000000   26.000000    5.000000    6.000000   13.000000   14.500000   \n",
       "75%     36.000000   36.000000    7.000000   10.000000   20.000000   24.000000   \n",
       "max    111.000000   89.000000   25.000000   28.000000   96.000000   63.000000   \n",
       "\n",
       "            TPW.1       ST1.1       ST2.1       ST3.1       ST4.1      ST5.1  \\\n",
       "count  631.000000  942.000000  939.000000  622.000000  221.000000  86.000000   \n",
       "mean    94.280507    4.801486    4.780618    4.728296    4.787330   4.651163   \n",
       "std     36.555619    1.924140    1.909132    1.982647    1.994315   2.085059   \n",
       "min      5.000000    0.000000    0.000000    0.000000    0.000000   0.000000   \n",
       "25%     67.000000    3.000000    4.000000    3.000000    3.000000   3.000000   \n",
       "50%     91.000000    6.000000    6.000000    6.000000    6.000000   5.000000   \n",
       "75%    116.000000    6.000000    6.000000    6.000000    6.000000   6.000000   \n",
       "max    231.000000    7.000000    7.000000    9.000000    7.000000   9.000000   \n",
       "\n",
       "            FSP.2       FSW.2       SSP.2       SSW.2       ACE.2       DBF.2  \\\n",
       "count  943.000000  943.000000  943.000000  943.000000  921.000000  935.000000   \n",
       "mean    61.967126   38.688229   38.054083   16.927890    5.982628    3.772193   \n",
       "std      8.372687   17.531238    8.383980    8.736354    6.017341    2.748657   \n",
       "min      0.000000    0.000000    7.000000    1.000000    0.000000    0.000000   \n",
       "25%     57.000000   25.000000   33.000000   10.000000    1.000000    2.000000   \n",
       "50%     62.000000   36.000000   38.000000   16.000000    4.000000    3.000000   \n",
       "75%     67.000000   48.500000   43.500000   22.000000    9.000000    5.000000   \n",
       "max     93.000000  132.000000  100.000000   57.000000   39.000000   18.000000   \n",
       "\n",
       "            WNR.2       UFE.2       BPC.2       BPW.2       NPA.2       NPW.2  \\\n",
       "count  817.000000  817.000000  942.000000  942.000000  859.000000  860.000000   \n",
       "mean    27.798042   27.676867    5.209130    7.095541   15.942957   17.589535   \n",
       "std     15.752516   15.477795    3.830328    5.026963   12.426671   12.870905   \n",
       "min      0.000000    0.000000    0.000000    0.000000    0.000000    0.000000   \n",
       "25%     16.000000   16.000000    2.000000    3.000000    8.000000    8.000000   \n",
       "50%     26.000000   26.000000    5.000000    6.000000   13.000000   15.000000   \n",
       "75%     37.000000   37.000000    7.000000   10.000000   21.000000   24.000000   \n",
       "max     95.000000   96.000000   25.000000   26.000000   82.000000   81.000000   \n",
       "\n",
       "            TPW.2       ST1.2       ST2.2       ST3.2       ST4.2      ST5.2  \n",
       "count  631.000000  942.000000  939.000000  622.000000  221.000000  86.000000  \n",
       "mean    94.521395    4.816348    4.695421    4.823151    4.710407   5.127907  \n",
       "std     36.974755    1.897262    1.948946    1.868696    1.894329   1.839415  \n",
       "min      1.000000    0.000000    0.000000    0.000000    0.000000   1.000000  \n",
       "25%     64.000000    3.000000    3.000000    3.000000    3.000000   4.000000  \n",
       "50%     92.000000    6.000000    6.000000    6.000000    6.000000   6.000000  \n",
       "75%    119.000000    6.000000    6.000000    6.000000    6.000000   6.000000  \n",
       "max    230.000000    7.000000    7.000000    9.000000    7.000000   9.000000  "
      ]
     },
     "execution_count": 11,
     "metadata": {},
     "output_type": "execute_result"
    }
   ],
   "source": [
    "# 基礎集計\n",
    "df.describe()"
   ]
  },
  {
   "cell_type": "code",
   "execution_count": 12,
   "metadata": {},
   "outputs": [],
   "source": [
    "# ヒストグラムと散布図の行列を作成\n",
    "# from pandas.plotting import scatter_matrix\n",
    "# x = pd.plotting.scatter_matrix(train_dataset, alpha=1, figsize=(20, 10), diagonal='hist')"
   ]
  },
  {
   "cell_type": "code",
   "execution_count": 13,
   "metadata": {},
   "outputs": [
    {
     "data": {
      "text/html": [
       "<div>\n",
       "<style scoped>\n",
       "    .dataframe tbody tr th:only-of-type {\n",
       "        vertical-align: middle;\n",
       "    }\n",
       "\n",
       "    .dataframe tbody tr th {\n",
       "        vertical-align: top;\n",
       "    }\n",
       "\n",
       "    .dataframe thead th {\n",
       "        text-align: right;\n",
       "    }\n",
       "</style>\n",
       "<table border=\"1\" class=\"dataframe\">\n",
       "  <thead>\n",
       "    <tr style=\"text-align: right;\">\n",
       "      <th></th>\n",
       "      <th>id</th>\n",
       "      <th>Tournament</th>\n",
       "      <th>Sex</th>\n",
       "      <th>Year</th>\n",
       "      <th>Player1</th>\n",
       "      <th>Player2</th>\n",
       "      <th>Round</th>\n",
       "      <th>Result</th>\n",
       "      <th>FNL.1</th>\n",
       "      <th>FNL.2</th>\n",
       "      <th>FSP.1</th>\n",
       "      <th>FSW.1</th>\n",
       "      <th>SSP.1</th>\n",
       "      <th>SSW.1</th>\n",
       "      <th>ACE.1</th>\n",
       "      <th>DBF.1</th>\n",
       "      <th>WNR.1</th>\n",
       "      <th>UFE.1</th>\n",
       "      <th>BPC.1</th>\n",
       "      <th>BPW.1</th>\n",
       "      <th>NPA.1</th>\n",
       "      <th>NPW.1</th>\n",
       "      <th>TPW.1</th>\n",
       "      <th>ST1.1</th>\n",
       "      <th>ST2.1</th>\n",
       "      <th>ST3.1</th>\n",
       "      <th>ST4.1</th>\n",
       "      <th>ST5.1</th>\n",
       "      <th>FSP.2</th>\n",
       "      <th>FSW.2</th>\n",
       "      <th>SSP.2</th>\n",
       "      <th>SSW.2</th>\n",
       "      <th>ACE.2</th>\n",
       "      <th>DBF.2</th>\n",
       "      <th>WNR.2</th>\n",
       "      <th>UFE.2</th>\n",
       "      <th>BPC.2</th>\n",
       "      <th>BPW.2</th>\n",
       "      <th>NPA.2</th>\n",
       "      <th>NPW.2</th>\n",
       "      <th>TPW.2</th>\n",
       "      <th>ST1.2</th>\n",
       "      <th>ST2.2</th>\n",
       "      <th>ST3.2</th>\n",
       "      <th>ST4.2</th>\n",
       "      <th>ST5.2</th>\n",
       "    </tr>\n",
       "  </thead>\n",
       "  <tbody>\n",
       "    <tr>\n",
       "      <th>0</th>\n",
       "      <td>0</td>\n",
       "      <td>FrenchOpen</td>\n",
       "      <td>men</td>\n",
       "      <td>2013</td>\n",
       "      <td>Jarkko Nieminen</td>\n",
       "      <td>Paul-Henri Mathieu</td>\n",
       "      <td>1</td>\n",
       "      <td>1.0</td>\n",
       "      <td>3.0</td>\n",
       "      <td>2.0</td>\n",
       "      <td>69</td>\n",
       "      <td>84</td>\n",
       "      <td>31</td>\n",
       "      <td>29</td>\n",
       "      <td>11.0</td>\n",
       "      <td>4.0</td>\n",
       "      <td>57.0</td>\n",
       "      <td>42.0</td>\n",
       "      <td>6.0</td>\n",
       "      <td>7.0</td>\n",
       "      <td>8.0</td>\n",
       "      <td>13.0</td>\n",
       "      <td>172.0</td>\n",
       "      <td>6.0</td>\n",
       "      <td>4.0</td>\n",
       "      <td>7.0</td>\n",
       "      <td>4.0</td>\n",
       "      <td>6.0</td>\n",
       "      <td>54</td>\n",
       "      <td>58</td>\n",
       "      <td>46</td>\n",
       "      <td>36</td>\n",
       "      <td>7.0</td>\n",
       "      <td>8.0</td>\n",
       "      <td>60.0</td>\n",
       "      <td>71.0</td>\n",
       "      <td>5.0</td>\n",
       "      <td>15.0</td>\n",
       "      <td>24.0</td>\n",
       "      <td>33.0</td>\n",
       "      <td>163.0</td>\n",
       "      <td>4.0</td>\n",
       "      <td>6.0</td>\n",
       "      <td>6.0</td>\n",
       "      <td>6.0</td>\n",
       "      <td>2.0</td>\n",
       "    </tr>\n",
       "    <tr>\n",
       "      <th>1</th>\n",
       "      <td>3</td>\n",
       "      <td>AusOpen</td>\n",
       "      <td>women</td>\n",
       "      <td>2013</td>\n",
       "      <td>Varvara Lepchenko</td>\n",
       "      <td>Simona Halep</td>\n",
       "      <td>2</td>\n",
       "      <td>0.0</td>\n",
       "      <td>1.0</td>\n",
       "      <td>2.0</td>\n",
       "      <td>63</td>\n",
       "      <td>34</td>\n",
       "      <td>37</td>\n",
       "      <td>10</td>\n",
       "      <td>1.0</td>\n",
       "      <td>4.0</td>\n",
       "      <td>23.0</td>\n",
       "      <td>47.0</td>\n",
       "      <td>2.0</td>\n",
       "      <td>2.0</td>\n",
       "      <td>9.0</td>\n",
       "      <td>10.0</td>\n",
       "      <td>66.0</td>\n",
       "      <td>6.0</td>\n",
       "      <td>0.0</td>\n",
       "      <td>1.0</td>\n",
       "      <td>NaN</td>\n",
       "      <td>NaN</td>\n",
       "      <td>58</td>\n",
       "      <td>29</td>\n",
       "      <td>42</td>\n",
       "      <td>16</td>\n",
       "      <td>0.0</td>\n",
       "      <td>3.0</td>\n",
       "      <td>10.0</td>\n",
       "      <td>19.0</td>\n",
       "      <td>6.0</td>\n",
       "      <td>15.0</td>\n",
       "      <td>1.0</td>\n",
       "      <td>2.0</td>\n",
       "      <td>90.0</td>\n",
       "      <td>4.0</td>\n",
       "      <td>6.0</td>\n",
       "      <td>6.0</td>\n",
       "      <td>NaN</td>\n",
       "      <td>NaN</td>\n",
       "    </tr>\n",
       "    <tr>\n",
       "      <th>2</th>\n",
       "      <td>4</td>\n",
       "      <td>Wimbledon</td>\n",
       "      <td>women</td>\n",
       "      <td>2013</td>\n",
       "      <td>H.Watson</td>\n",
       "      <td>M.Keys</td>\n",
       "      <td>1</td>\n",
       "      <td>0.0</td>\n",
       "      <td>0.0</td>\n",
       "      <td>2.0</td>\n",
       "      <td>53</td>\n",
       "      <td>18</td>\n",
       "      <td>47</td>\n",
       "      <td>13</td>\n",
       "      <td>4.0</td>\n",
       "      <td>2.0</td>\n",
       "      <td>11.0</td>\n",
       "      <td>15.0</td>\n",
       "      <td>5.0</td>\n",
       "      <td>2.0</td>\n",
       "      <td>7.0</td>\n",
       "      <td>4.0</td>\n",
       "      <td>NaN</td>\n",
       "      <td>3.0</td>\n",
       "      <td>5.0</td>\n",
       "      <td>NaN</td>\n",
       "      <td>NaN</td>\n",
       "      <td>NaN</td>\n",
       "      <td>63</td>\n",
       "      <td>25</td>\n",
       "      <td>37</td>\n",
       "      <td>10</td>\n",
       "      <td>8.0</td>\n",
       "      <td>2.0</td>\n",
       "      <td>23.0</td>\n",
       "      <td>18.0</td>\n",
       "      <td>7.0</td>\n",
       "      <td>5.0</td>\n",
       "      <td>8.0</td>\n",
       "      <td>5.0</td>\n",
       "      <td>NaN</td>\n",
       "      <td>6.0</td>\n",
       "      <td>7.0</td>\n",
       "      <td>NaN</td>\n",
       "      <td>NaN</td>\n",
       "      <td>NaN</td>\n",
       "    </tr>\n",
       "    <tr>\n",
       "      <th>3</th>\n",
       "      <td>7</td>\n",
       "      <td>USOpen</td>\n",
       "      <td>women</td>\n",
       "      <td>2013</td>\n",
       "      <td>S Williams</td>\n",
       "      <td>F Schiavone</td>\n",
       "      <td>1</td>\n",
       "      <td>1.0</td>\n",
       "      <td>2.0</td>\n",
       "      <td>0.0</td>\n",
       "      <td>51</td>\n",
       "      <td>13</td>\n",
       "      <td>49</td>\n",
       "      <td>12</td>\n",
       "      <td>1.0</td>\n",
       "      <td>0.0</td>\n",
       "      <td>13.0</td>\n",
       "      <td>8.0</td>\n",
       "      <td>9.0</td>\n",
       "      <td>6.0</td>\n",
       "      <td>8.0</td>\n",
       "      <td>6.0</td>\n",
       "      <td>NaN</td>\n",
       "      <td>6.0</td>\n",
       "      <td>6.0</td>\n",
       "      <td>NaN</td>\n",
       "      <td>NaN</td>\n",
       "      <td>NaN</td>\n",
       "      <td>43</td>\n",
       "      <td>8</td>\n",
       "      <td>57</td>\n",
       "      <td>5</td>\n",
       "      <td>0.0</td>\n",
       "      <td>8.0</td>\n",
       "      <td>3.0</td>\n",
       "      <td>18.0</td>\n",
       "      <td>0.0</td>\n",
       "      <td>0.0</td>\n",
       "      <td>6.0</td>\n",
       "      <td>3.0</td>\n",
       "      <td>NaN</td>\n",
       "      <td>0.0</td>\n",
       "      <td>1.0</td>\n",
       "      <td>NaN</td>\n",
       "      <td>NaN</td>\n",
       "      <td>NaN</td>\n",
       "    </tr>\n",
       "    <tr>\n",
       "      <th>4</th>\n",
       "      <td>9</td>\n",
       "      <td>AusOpen</td>\n",
       "      <td>women</td>\n",
       "      <td>2013</td>\n",
       "      <td>Tadeja Majeric</td>\n",
       "      <td>Ajla Tomljanovic</td>\n",
       "      <td>1</td>\n",
       "      <td>0.0</td>\n",
       "      <td>1.0</td>\n",
       "      <td>2.0</td>\n",
       "      <td>72</td>\n",
       "      <td>54</td>\n",
       "      <td>28</td>\n",
       "      <td>10</td>\n",
       "      <td>4.0</td>\n",
       "      <td>7.0</td>\n",
       "      <td>4.0</td>\n",
       "      <td>7.0</td>\n",
       "      <td>3.0</td>\n",
       "      <td>6.0</td>\n",
       "      <td>NaN</td>\n",
       "      <td>NaN</td>\n",
       "      <td>99.0</td>\n",
       "      <td>6.0</td>\n",
       "      <td>6.0</td>\n",
       "      <td>4.0</td>\n",
       "      <td>NaN</td>\n",
       "      <td>NaN</td>\n",
       "      <td>49</td>\n",
       "      <td>36</td>\n",
       "      <td>51</td>\n",
       "      <td>25</td>\n",
       "      <td>5.0</td>\n",
       "      <td>6.0</td>\n",
       "      <td>5.0</td>\n",
       "      <td>6.0</td>\n",
       "      <td>3.0</td>\n",
       "      <td>6.0</td>\n",
       "      <td>NaN</td>\n",
       "      <td>NaN</td>\n",
       "      <td>97.0</td>\n",
       "      <td>3.0</td>\n",
       "      <td>7.0</td>\n",
       "      <td>6.0</td>\n",
       "      <td>NaN</td>\n",
       "      <td>NaN</td>\n",
       "    </tr>\n",
       "  </tbody>\n",
       "</table>\n",
       "</div>"
      ],
      "text/plain": [
       "   id  Tournament    Sex  Year            Player1             Player2  Round  \\\n",
       "0   0  FrenchOpen    men  2013    Jarkko Nieminen  Paul-Henri Mathieu      1   \n",
       "1   3     AusOpen  women  2013  Varvara Lepchenko        Simona Halep      2   \n",
       "2   4   Wimbledon  women  2013           H.Watson              M.Keys      1   \n",
       "3   7      USOpen  women  2013         S Williams         F Schiavone      1   \n",
       "4   9     AusOpen  women  2013     Tadeja Majeric    Ajla Tomljanovic      1   \n",
       "\n",
       "   Result  FNL.1  FNL.2  FSP.1  FSW.1  SSP.1  SSW.1  ACE.1  DBF.1  WNR.1  \\\n",
       "0     1.0    3.0    2.0     69     84     31     29   11.0    4.0   57.0   \n",
       "1     0.0    1.0    2.0     63     34     37     10    1.0    4.0   23.0   \n",
       "2     0.0    0.0    2.0     53     18     47     13    4.0    2.0   11.0   \n",
       "3     1.0    2.0    0.0     51     13     49     12    1.0    0.0   13.0   \n",
       "4     0.0    1.0    2.0     72     54     28     10    4.0    7.0    4.0   \n",
       "\n",
       "   UFE.1  BPC.1  BPW.1  NPA.1  NPW.1  TPW.1  ST1.1  ST2.1  ST3.1  ST4.1  \\\n",
       "0   42.0    6.0    7.0    8.0   13.0  172.0    6.0    4.0    7.0    4.0   \n",
       "1   47.0    2.0    2.0    9.0   10.0   66.0    6.0    0.0    1.0    NaN   \n",
       "2   15.0    5.0    2.0    7.0    4.0    NaN    3.0    5.0    NaN    NaN   \n",
       "3    8.0    9.0    6.0    8.0    6.0    NaN    6.0    6.0    NaN    NaN   \n",
       "4    7.0    3.0    6.0    NaN    NaN   99.0    6.0    6.0    4.0    NaN   \n",
       "\n",
       "   ST5.1  FSP.2  FSW.2  SSP.2  SSW.2  ACE.2  DBF.2  WNR.2  UFE.2  BPC.2  \\\n",
       "0    6.0     54     58     46     36    7.0    8.0   60.0   71.0    5.0   \n",
       "1    NaN     58     29     42     16    0.0    3.0   10.0   19.0    6.0   \n",
       "2    NaN     63     25     37     10    8.0    2.0   23.0   18.0    7.0   \n",
       "3    NaN     43      8     57      5    0.0    8.0    3.0   18.0    0.0   \n",
       "4    NaN     49     36     51     25    5.0    6.0    5.0    6.0    3.0   \n",
       "\n",
       "   BPW.2  NPA.2  NPW.2  TPW.2  ST1.2  ST2.2  ST3.2  ST4.2  ST5.2  \n",
       "0   15.0   24.0   33.0  163.0    4.0    6.0    6.0    6.0    2.0  \n",
       "1   15.0    1.0    2.0   90.0    4.0    6.0    6.0    NaN    NaN  \n",
       "2    5.0    8.0    5.0    NaN    6.0    7.0    NaN    NaN    NaN  \n",
       "3    0.0    6.0    3.0    NaN    0.0    1.0    NaN    NaN    NaN  \n",
       "4    6.0    NaN    NaN   97.0    3.0    7.0    6.0    NaN    NaN  "
      ]
     },
     "execution_count": 13,
     "metadata": {},
     "output_type": "execute_result"
    }
   ],
   "source": [
    "df.head()"
   ]
  },
  {
   "cell_type": "code",
   "execution_count": 14,
   "metadata": {},
   "outputs": [
    {
     "data": {
      "image/png": "[encoded data removed]",
      "text/plain": [
       "<Figure size 600x400 with 1 Axes>"
      ]
     },
     "metadata": {},
     "output_type": "display_data"
    }
   ],
   "source": [
    "plt.figure(figsize=(6, 4))\n",
    "sns.countplot(data=df, x='Sex')\n",
    "plt.show()"
   ]
  },
  {
   "cell_type": "code",
   "execution_count": 15,
   "metadata": {},
   "outputs": [
    {
     "data": {
      "image/png": "[encoded data removed]",
      "text/plain": [
       "<Figure size 640x480 with 1 Axes>"
      ]
     },
     "metadata": {},
     "output_type": "display_data"
    }
   ],
   "source": [
    "sns.countplot(data=df, x='Round')\n",
    "plt.show()"
   ]
  },
  {
   "cell_type": "code",
   "execution_count": 16,
   "metadata": {},
   "outputs": [
    {
     "data": {
      "image/png": "[encoded data removed]",
      "text/plain": [
       "<Figure size 640x480 with 1 Axes>"
      ]
     },
     "metadata": {},
     "output_type": "display_data"
    }
   ],
   "source": [
    "sns.countplot(data=train_df, x='Result')\n",
    "plt.show()"
   ]
  },
  {
   "cell_type": "code",
   "execution_count": 17,
   "metadata": {},
   "outputs": [
    {
     "data": {
      "image/png": "[encoded data removed]",
      "text/plain": [
       "<Figure size 640x480 with 1 Axes>"
      ]
     },
     "metadata": {},
     "output_type": "display_data"
    }
   ],
   "source": [
    "sns.countplot(data=df, x='Year')\n",
    "plt.show()"
   ]
  },
  {
   "cell_type": "code",
   "execution_count": 18,
   "metadata": {},
   "outputs": [],
   "source": [
    "# カラムの削除\n",
    "df2 = df.drop(columns=['Year', 'Player1', 'Player2'])"
   ]
  },
  {
   "cell_type": "code",
   "execution_count": 19,
   "metadata": {},
   "outputs": [
    {
     "data": {
      "text/plain": [
       "id              0\n",
       "Tournament      0\n",
       "Sex             0\n",
       "Round           0\n",
       "Result        472\n",
       "FNL.1           1\n",
       "FNL.2           1\n",
       "FSP.1           0\n",
       "FSW.1           0\n",
       "SSP.1           0\n",
       "SSW.1           0\n",
       "ACE.1          22\n",
       "DBF.1           8\n",
       "WNR.1         126\n",
       "UFE.1         126\n",
       "BPC.1           1\n",
       "BPW.1           1\n",
       "NPA.1          84\n",
       "NPW.1          83\n",
       "TPW.1         312\n",
       "ST1.1           1\n",
       "ST2.1           4\n",
       "ST3.1         321\n",
       "ST4.1         722\n",
       "ST5.1         857\n",
       "FSP.2           0\n",
       "FSW.2           0\n",
       "SSP.2           0\n",
       "SSW.2           0\n",
       "ACE.2          22\n",
       "DBF.2           8\n",
       "WNR.2         126\n",
       "UFE.2         126\n",
       "BPC.2           1\n",
       "BPW.2           1\n",
       "NPA.2          84\n",
       "NPW.2          83\n",
       "TPW.2         312\n",
       "ST1.2           1\n",
       "ST2.2           4\n",
       "ST3.2         321\n",
       "ST4.2         722\n",
       "ST5.2         857\n",
       "dtype: int64"
      ]
     },
     "execution_count": 19,
     "metadata": {},
     "output_type": "execute_result"
    }
   ],
   "source": [
    "df2.isnull().sum()"
   ]
  },
  {
   "cell_type": "code",
   "execution_count": 20,
   "metadata": {},
   "outputs": [
    {
     "name": "stdout",
     "output_type": "stream",
     "text": [
      "ACE.1の最小値 0.0\n",
      "ACE.1の最大値 41.0\n"
     ]
    }
   ],
   "source": [
    "print(\"ACE.1の最小値\", df2['ACE.1'].min())\n",
    "print(\"ACE.1の最大値\", df2['ACE.1'].max())"
   ]
  },
  {
   "cell_type": "code",
   "execution_count": 21,
   "metadata": {},
   "outputs": [
    {
     "name": "stderr",
     "output_type": "stream",
     "text": [
      "c:\\Users\\Public\\Anaconda\\envs\\kaggle\\lib\\site-packages\\seaborn\\_oldcore.py:1119: FutureWarning: use_inf_as_na option is deprecated and will be removed in a future version. Convert inf values to NaN before operating instead.\n",
      "  with pd.option_context('mode.use_inf_as_na', True):\n"
     ]
    },
    {
     "data": {
      "image/png": "[encoded data removed]",
      "text/plain": [
       "<Figure size 600x400 with 1 Axes>"
      ]
     },
     "metadata": {},
     "output_type": "display_data"
    }
   ],
   "source": [
    "plt.figure(figsize=(6, 4))\n",
    "sns.histplot(data=df2['ACE.1'], kde=False, bins=11)\n",
    "plt.show()"
   ]
  },
  {
   "cell_type": "code",
   "execution_count": 22,
   "metadata": {},
   "outputs": [
    {
     "name": "stdout",
     "output_type": "stream",
     "text": [
      "ACE.1の平均値 6.140065146579804\n",
      "ACE.1の中央値 4.0\n"
     ]
    }
   ],
   "source": [
    "print(\"ACE.1の平均値\", df2['ACE.1'].mean())\n",
    "print(\"ACE.1の中央値\", df2['ACE.1'].median())"
   ]
  },
  {
   "cell_type": "code",
   "execution_count": 23,
   "metadata": {},
   "outputs": [
    {
     "name": "stdout",
     "output_type": "stream",
     "text": [
      "ACE.1の欠損値の数 0\n"
     ]
    }
   ],
   "source": [
    "df3 = df2.copy()\n",
    "ace1_median = df3['ACE.1'].median()\n",
    "df3['ACE.1'] = df3['ACE.1'].fillna(ace1_median)\n",
    "print(\"ACE.1の欠損値の数\", df3['ACE.1'].isnull().sum())"
   ]
  },
  {
   "cell_type": "code",
   "execution_count": 24,
   "metadata": {},
   "outputs": [
    {
     "name": "stdout",
     "output_type": "stream",
     "text": [
      "DBF.1の最小値 0.0\n",
      "DBF.1の最大値 18.0\n"
     ]
    }
   ],
   "source": [
    "print(\"DBF.1の最小値\", df3['DBF.1'].min())\n",
    "print(\"DBF.1の最大値\", df3['DBF.1'].max())"
   ]
  },
  {
   "cell_type": "code",
   "execution_count": 25,
   "metadata": {},
   "outputs": [
    {
     "name": "stderr",
     "output_type": "stream",
     "text": [
      "c:\\Users\\Public\\Anaconda\\envs\\kaggle\\lib\\site-packages\\seaborn\\_oldcore.py:1119: FutureWarning: use_inf_as_na option is deprecated and will be removed in a future version. Convert inf values to NaN before operating instead.\n",
      "  with pd.option_context('mode.use_inf_as_na', True):\n"
     ]
    },
    {
     "data": {
      "image/png": "[encoded data removed]",
      "text/plain": [
       "<Figure size 600x400 with 1 Axes>"
      ]
     },
     "metadata": {},
     "output_type": "display_data"
    },
    {
     "name": "stdout",
     "output_type": "stream",
     "text": [
      "DBF.1の平均値 3.641711229946524\n",
      "DBF.1の中央値 3.0\n"
     ]
    }
   ],
   "source": [
    "plt.figure(figsize=(6, 4))\n",
    "sns.histplot(data=df3['DBF.1'], kde=False, bins=6)\n",
    "plt.show()\n",
    "\n",
    "print(\"DBF.1の平均値\", df3['DBF.1'].mean())\n",
    "print(\"DBF.1の中央値\", df3['DBF.1'].median())"
   ]
  },
  {
   "cell_type": "code",
   "execution_count": 26,
   "metadata": {},
   "outputs": [
    {
     "name": "stdout",
     "output_type": "stream",
     "text": [
      "DBF.1の欠損値の数 0\n"
     ]
    }
   ],
   "source": [
    "df4 = df3.copy()\n",
    "dbf1_median = df4['DBF.1'].median()\n",
    "df4['DBF.1'] = df4['DBF.1'].fillna(ace1_median)\n",
    "print(\"DBF.1の欠損値の数\", df4['DBF.1'].isnull().sum())"
   ]
  },
  {
   "cell_type": "code",
   "execution_count": 27,
   "metadata": {},
   "outputs": [
    {
     "name": "stdout",
     "output_type": "stream",
     "text": [
      "FNL.1の最小値 0.0\n",
      "FNL.1の最大値 3.0\n"
     ]
    }
   ],
   "source": [
    "print(\"FNL.1の最小値\", df4['FNL.1'].min())\n",
    "print(\"FNL.1の最大値\", df4['FNL.1'].max())"
   ]
  },
  {
   "cell_type": "code",
   "execution_count": 28,
   "metadata": {},
   "outputs": [
    {
     "name": "stderr",
     "output_type": "stream",
     "text": [
      "c:\\Users\\Public\\Anaconda\\envs\\kaggle\\lib\\site-packages\\seaborn\\_oldcore.py:1119: FutureWarning: use_inf_as_na option is deprecated and will be removed in a future version. Convert inf values to NaN before operating instead.\n",
      "  with pd.option_context('mode.use_inf_as_na', True):\n"
     ]
    },
    {
     "data": {
      "image/png": "[encoded data removed]",
      "text/plain": [
       "<Figure size 600x400 with 1 Axes>"
      ]
     },
     "metadata": {},
     "output_type": "display_data"
    },
    {
     "name": "stdout",
     "output_type": "stream",
     "text": [
      "FNL.1の平均値 1.4904458598726114\n",
      "FNL.1の中央値 2.0\n"
     ]
    }
   ],
   "source": [
    "plt.figure(figsize=(6, 4))\n",
    "sns.histplot(data=df4['FNL.1'], kde=False, bins=4)\n",
    "plt.show()\n",
    "\n",
    "print(\"FNL.1の平均値\", df4['FNL.1'].mean())\n",
    "print(\"FNL.1の中央値\", df4['FNL.1'].median())"
   ]
  },
  {
   "cell_type": "code",
   "execution_count": 29,
   "metadata": {},
   "outputs": [
    {
     "name": "stdout",
     "output_type": "stream",
     "text": [
      "FNL.1の欠損値の数 0\n"
     ]
    }
   ],
   "source": [
    "df5 = df4.copy()\n",
    "fnl1_median = df5['FNL.1'].median()\n",
    "df5['FNL.1'] = df5['FNL.1'].fillna(fnl1_median)\n",
    "print(\"FNL.1の欠損値の数\", df5['FNL.1'].isnull().sum())"
   ]
  },
  {
   "cell_type": "code",
   "execution_count": 30,
   "metadata": {},
   "outputs": [
    {
     "name": "stdout",
     "output_type": "stream",
     "text": [
      "FNL.2の最小値 0.0\n",
      "FNL.2の最大値 3.0\n"
     ]
    }
   ],
   "source": [
    "print(\"FNL.2の最小値\", df5['FNL.2'].min())\n",
    "print(\"FNL.2の最大値\", df5['FNL.2'].max())"
   ]
  },
  {
   "cell_type": "code",
   "execution_count": 31,
   "metadata": {},
   "outputs": [
    {
     "name": "stderr",
     "output_type": "stream",
     "text": [
      "c:\\Users\\Public\\Anaconda\\envs\\kaggle\\lib\\site-packages\\seaborn\\_oldcore.py:1119: FutureWarning: use_inf_as_na option is deprecated and will be removed in a future version. Convert inf values to NaN before operating instead.\n",
      "  with pd.option_context('mode.use_inf_as_na', True):\n"
     ]
    },
    {
     "data": {
      "image/png": "[encoded data removed]",
      "text/plain": [
       "<Figure size 600x400 with 1 Axes>"
      ]
     },
     "metadata": {},
     "output_type": "display_data"
    },
    {
     "name": "stdout",
     "output_type": "stream",
     "text": [
      "FNL.2の平均値 1.4925690021231421\n",
      "FNL.2の中央値 2.0\n"
     ]
    }
   ],
   "source": [
    "plt.figure(figsize=(6, 4))\n",
    "sns.histplot(data=df5['FNL.2'], kde=False, bins=4)\n",
    "plt.show()\n",
    "\n",
    "print(\"FNL.2の平均値\", df5['FNL.2'].mean())\n",
    "print(\"FNL.2の中央値\", df5['FNL.2'].median())"
   ]
  },
  {
   "cell_type": "code",
   "execution_count": 32,
   "metadata": {},
   "outputs": [
    {
     "name": "stdout",
     "output_type": "stream",
     "text": [
      "FNL.2の欠損値の数 0\n"
     ]
    }
   ],
   "source": [
    "df6 = df5.copy()\n",
    "fnl2_median = df6['FNL.2'].median()\n",
    "df6['FNL.2'] = df6['FNL.2'].fillna(fnl2_median)\n",
    "print(\"FNL.2の欠損値の数\", df6['FNL.2'].isnull().sum())"
   ]
  },
  {
   "cell_type": "code",
   "execution_count": 33,
   "metadata": {},
   "outputs": [
    {
     "data": {
      "text/plain": [
       "id              0\n",
       "Tournament      0\n",
       "Sex             0\n",
       "Round           0\n",
       "Result        472\n",
       "FNL.1           0\n",
       "FNL.2           0\n",
       "FSP.1           0\n",
       "FSW.1           0\n",
       "SSP.1           0\n",
       "SSW.1           0\n",
       "ACE.1           0\n",
       "DBF.1           0\n",
       "WNR.1         126\n",
       "UFE.1         126\n",
       "BPC.1           1\n",
       "BPW.1           1\n",
       "NPA.1          84\n",
       "NPW.1          83\n",
       "TPW.1         312\n",
       "ST1.1           1\n",
       "ST2.1           4\n",
       "ST3.1         321\n",
       "ST4.1         722\n",
       "ST5.1         857\n",
       "FSP.2           0\n",
       "FSW.2           0\n",
       "SSP.2           0\n",
       "SSW.2           0\n",
       "ACE.2          22\n",
       "DBF.2           8\n",
       "WNR.2         126\n",
       "UFE.2         126\n",
       "BPC.2           1\n",
       "BPW.2           1\n",
       "NPA.2          84\n",
       "NPW.2          83\n",
       "TPW.2         312\n",
       "ST1.2           1\n",
       "ST2.2           4\n",
       "ST3.2         321\n",
       "ST4.2         722\n",
       "ST5.2         857\n",
       "dtype: int64"
      ]
     },
     "execution_count": 33,
     "metadata": {},
     "output_type": "execute_result"
    }
   ],
   "source": [
    "df6.isnull().sum()"
   ]
  },
  {
   "cell_type": "code",
   "execution_count": 34,
   "metadata": {},
   "outputs": [
    {
     "data": {
      "text/plain": [
       "id              0\n",
       "Tournament      0\n",
       "Sex             0\n",
       "Round           0\n",
       "Result        472\n",
       "FNL.1           0\n",
       "FNL.2           0\n",
       "FSP.1           0\n",
       "FSW.1           0\n",
       "SSP.1           0\n",
       "SSW.1           0\n",
       "ACE.1           0\n",
       "DBF.1           0\n",
       "BPC.1           1\n",
       "BPW.1           1\n",
       "NPA.1          84\n",
       "NPW.1          83\n",
       "ST1.1           1\n",
       "ST2.1           4\n",
       "FSP.2           0\n",
       "FSW.2           0\n",
       "SSP.2           0\n",
       "SSW.2           0\n",
       "ACE.2          22\n",
       "DBF.2           8\n",
       "BPC.2           1\n",
       "BPW.2           1\n",
       "NPA.2          84\n",
       "NPW.2          83\n",
       "ST1.2           1\n",
       "ST2.2           4\n",
       "dtype: int64"
      ]
     },
     "execution_count": 34,
     "metadata": {},
     "output_type": "execute_result"
    }
   ],
   "source": [
    "df7 = df6.drop(columns=['WNR.1', 'UFE.1', 'TPW.1', 'ST3.1', 'ST4.1', 'ST5.1', 'WNR.2', 'UFE.2', 'TPW.2', 'ST3.2', 'ST4.2', 'ST5.2'])\n",
    "df7.isnull().sum()"
   ]
  },
  {
   "cell_type": "code",
   "execution_count": 35,
   "metadata": {},
   "outputs": [
    {
     "name": "stdout",
     "output_type": "stream",
     "text": [
      "BPC.1の最小値 0.0\n",
      "BPC.1の最大値 25.0\n"
     ]
    }
   ],
   "source": [
    "print(\"BPC.1の最小値\", df7['BPC.1'].min())\n",
    "print(\"BPC.1の最大値\", df7['BPC.1'].max())"
   ]
  },
  {
   "cell_type": "code",
   "execution_count": 36,
   "metadata": {},
   "outputs": [
    {
     "name": "stderr",
     "output_type": "stream",
     "text": [
      "c:\\Users\\Public\\Anaconda\\envs\\kaggle\\lib\\site-packages\\seaborn\\_oldcore.py:1119: FutureWarning: use_inf_as_na option is deprecated and will be removed in a future version. Convert inf values to NaN before operating instead.\n",
      "  with pd.option_context('mode.use_inf_as_na', True):\n"
     ]
    },
    {
     "data": {
      "image/png": "[encoded data removed]",
      "text/plain": [
       "<Figure size 600x400 with 1 Axes>"
      ]
     },
     "metadata": {},
     "output_type": "display_data"
    },
    {
     "name": "stdout",
     "output_type": "stream",
     "text": [
      "BPC.1の平均値 5.31104033970276\n",
      "BPC.1の中央値 5.0\n"
     ]
    }
   ],
   "source": [
    "plt.figure(figsize=(6, 4))\n",
    "sns.histplot(data=df7['BPC.1'], kde=False, bins=25)\n",
    "plt.show()\n",
    "\n",
    "print(\"BPC.1の平均値\", df7['BPC.1'].mean())\n",
    "print(\"BPC.1の中央値\", df7['BPC.1'].median())"
   ]
  },
  {
   "cell_type": "code",
   "execution_count": 37,
   "metadata": {},
   "outputs": [
    {
     "name": "stdout",
     "output_type": "stream",
     "text": [
      "BPC.1の欠損値の数 0\n"
     ]
    }
   ],
   "source": [
    "df8 = df7.copy()\n",
    "bpc1_median = df8['BPC.1'].median()\n",
    "df8['BPC.1'] = df8['BPC.1'].fillna(bpc1_median)\n",
    "print(\"BPC.1の欠損値の数\", df8['BPC.1'].isnull().sum())"
   ]
  },
  {
   "cell_type": "code",
   "execution_count": 38,
   "metadata": {},
   "outputs": [
    {
     "name": "stdout",
     "output_type": "stream",
     "text": [
      "BPW.1の最小値 0.0\n",
      "BPW.1の最大値 28.0\n"
     ]
    }
   ],
   "source": [
    "print(\"BPW.1の最小値\", df8['BPW.1'].min())\n",
    "print(\"BPW.1の最大値\", df8['BPW.1'].max())"
   ]
  },
  {
   "cell_type": "code",
   "execution_count": 39,
   "metadata": {},
   "outputs": [
    {
     "name": "stderr",
     "output_type": "stream",
     "text": [
      "c:\\Users\\Public\\Anaconda\\envs\\kaggle\\lib\\site-packages\\seaborn\\_oldcore.py:1119: FutureWarning: use_inf_as_na option is deprecated and will be removed in a future version. Convert inf values to NaN before operating instead.\n",
      "  with pd.option_context('mode.use_inf_as_na', True):\n"
     ]
    },
    {
     "data": {
      "image/png": "[encoded data removed]",
      "text/plain": [
       "<Figure size 600x400 with 1 Axes>"
      ]
     },
     "metadata": {},
     "output_type": "display_data"
    },
    {
     "name": "stdout",
     "output_type": "stream",
     "text": [
      "BPW.1の平均値 7.144373673036093\n",
      "BPW.1の中央値 6.0\n"
     ]
    }
   ],
   "source": [
    "plt.figure(figsize=(6, 4))\n",
    "sns.histplot(data=df8['BPW.1'], kde=False, bins=28)\n",
    "plt.show()\n",
    "\n",
    "print(\"BPW.1の平均値\", df8['BPW.1'].mean())\n",
    "print(\"BPW.1の中央値\", df8['BPW.1'].median())"
   ]
  },
  {
   "cell_type": "code",
   "execution_count": 40,
   "metadata": {},
   "outputs": [
    {
     "name": "stdout",
     "output_type": "stream",
     "text": [
      "BPW.1の欠損値の数 0\n"
     ]
    }
   ],
   "source": [
    "df9 = df8.copy()\n",
    "bpw1_median = df9['BPW.1'].median()\n",
    "df9['BPW.1'] = df9['BPW.1'].fillna(bpw1_median)\n",
    "print(\"BPW.1の欠損値の数\", df9['BPW.1'].isnull().sum())"
   ]
  },
  {
   "cell_type": "code",
   "execution_count": 41,
   "metadata": {},
   "outputs": [
    {
     "name": "stdout",
     "output_type": "stream",
     "text": [
      "NPA.1の最小値 0.0\n",
      "NPA.1の最大値 96.0\n"
     ]
    }
   ],
   "source": [
    "print(\"NPA.1の最小値\", df9['NPA.1'].min())\n",
    "print(\"NPA.1の最大値\", df9['NPA.1'].max())"
   ]
  },
  {
   "cell_type": "code",
   "execution_count": 42,
   "metadata": {},
   "outputs": [
    {
     "name": "stderr",
     "output_type": "stream",
     "text": [
      "c:\\Users\\Public\\Anaconda\\envs\\kaggle\\lib\\site-packages\\seaborn\\_oldcore.py:1119: FutureWarning: use_inf_as_na option is deprecated and will be removed in a future version. Convert inf values to NaN before operating instead.\n",
      "  with pd.option_context('mode.use_inf_as_na', True):\n"
     ]
    },
    {
     "data": {
      "image/png": "[encoded data removed]",
      "text/plain": [
       "<Figure size 600x400 with 1 Axes>"
      ]
     },
     "metadata": {},
     "output_type": "display_data"
    },
    {
     "name": "stdout",
     "output_type": "stream",
     "text": [
      "NPA.1の平均値 15.541327124563447\n",
      "NPA.1の中央値 13.0\n"
     ]
    }
   ],
   "source": [
    "plt.figure(figsize=(6, 4))\n",
    "sns.histplot(data=df9['NPA.1'], kde=False, bins=24)\n",
    "plt.show()\n",
    "\n",
    "print(\"NPA.1の平均値\", df9['NPA.1'].mean())\n",
    "print(\"NPA.1の中央値\", df9['NPA.1'].median())"
   ]
  },
  {
   "cell_type": "code",
   "execution_count": 43,
   "metadata": {},
   "outputs": [
    {
     "name": "stdout",
     "output_type": "stream",
     "text": [
      "NPA.1の欠損値の数 0\n"
     ]
    }
   ],
   "source": [
    "df10 = df9.copy()\n",
    "npa1_median = df10['NPA.1'].median()\n",
    "df10['NPA.1'] = df10['NPA.1'].fillna(npa1_median)\n",
    "print(\"NPA.1の欠損値の数\", df10['NPA.1'].isnull().sum())"
   ]
  },
  {
   "cell_type": "code",
   "execution_count": 44,
   "metadata": {},
   "outputs": [
    {
     "name": "stdout",
     "output_type": "stream",
     "text": [
      "NPW.1の最小値 0.0\n",
      "NPW.1の最大値 63.0\n"
     ]
    }
   ],
   "source": [
    "print(\"NPW.1の最小値\", df10['NPW.1'].min())\n",
    "print(\"NPW.1の最大値\", df10['NPW.1'].max())"
   ]
  },
  {
   "cell_type": "code",
   "execution_count": 45,
   "metadata": {},
   "outputs": [
    {
     "name": "stderr",
     "output_type": "stream",
     "text": [
      "c:\\Users\\Public\\Anaconda\\envs\\kaggle\\lib\\site-packages\\seaborn\\_oldcore.py:1119: FutureWarning: use_inf_as_na option is deprecated and will be removed in a future version. Convert inf values to NaN before operating instead.\n",
      "  with pd.option_context('mode.use_inf_as_na', True):\n"
     ]
    },
    {
     "data": {
      "image/png": "[encoded data removed]",
      "text/plain": [
       "<Figure size 600x400 with 1 Axes>"
      ]
     },
     "metadata": {},
     "output_type": "display_data"
    },
    {
     "name": "stdout",
     "output_type": "stream",
     "text": [
      "NPW.1の平均値 17.165116279069768\n",
      "NPW.1の中央値 14.5\n"
     ]
    }
   ],
   "source": [
    "plt.figure(figsize=(6, 4))\n",
    "sns.histplot(data=df10['NPW.1'], kde=False, bins=21)\n",
    "plt.show()\n",
    "\n",
    "print(\"NPW.1の平均値\", df10['NPW.1'].mean())\n",
    "print(\"NPW.1の中央値\", df10['NPW.1'].median())"
   ]
  },
  {
   "cell_type": "code",
   "execution_count": 46,
   "metadata": {},
   "outputs": [
    {
     "name": "stdout",
     "output_type": "stream",
     "text": [
      "NPW.1の欠損値の数 0\n"
     ]
    }
   ],
   "source": [
    "df11 = df10.copy()\n",
    "NPW1_median = df11['NPW.1'].median()\n",
    "df11['NPW.1'] = df11['NPW.1'].fillna(NPW1_median)\n",
    "print(\"NPW.1の欠損値の数\", df11['NPW.1'].isnull().sum())"
   ]
  },
  {
   "cell_type": "code",
   "execution_count": 47,
   "metadata": {},
   "outputs": [
    {
     "name": "stdout",
     "output_type": "stream",
     "text": [
      "ST1.1の最小値 0.0\n",
      "ST1.1の最大値 7.0\n"
     ]
    }
   ],
   "source": [
    "print(\"ST1.1の最小値\", df11['ST1.1'].min())\n",
    "print(\"ST1.1の最大値\", df11['ST1.1'].max())"
   ]
  },
  {
   "cell_type": "code",
   "execution_count": 48,
   "metadata": {},
   "outputs": [
    {
     "name": "stderr",
     "output_type": "stream",
     "text": [
      "c:\\Users\\Public\\Anaconda\\envs\\kaggle\\lib\\site-packages\\seaborn\\_oldcore.py:1119: FutureWarning: use_inf_as_na option is deprecated and will be removed in a future version. Convert inf values to NaN before operating instead.\n",
      "  with pd.option_context('mode.use_inf_as_na', True):\n"
     ]
    },
    {
     "data": {
      "image/png": "[encoded data removed]",
      "text/plain": [
       "<Figure size 600x400 with 1 Axes>"
      ]
     },
     "metadata": {},
     "output_type": "display_data"
    },
    {
     "name": "stdout",
     "output_type": "stream",
     "text": [
      "ST1.1の平均値 4.801486199575372\n",
      "ST1.1の中央値 6.0\n"
     ]
    }
   ],
   "source": [
    "plt.figure(figsize=(6, 4))\n",
    "sns.histplot(data=df11['ST1.1'], kde=False, bins=7)\n",
    "plt.show()\n",
    "\n",
    "print(\"ST1.1の平均値\", df11['ST1.1'].mean())\n",
    "print(\"ST1.1の中央値\", df11['ST1.1'].median())"
   ]
  },
  {
   "cell_type": "code",
   "execution_count": 49,
   "metadata": {},
   "outputs": [
    {
     "name": "stdout",
     "output_type": "stream",
     "text": [
      "ST1.1の欠損値の数 0\n"
     ]
    }
   ],
   "source": [
    "df12 = df11.copy()\n",
    "ST11_median = df12['ST1.1'].median()\n",
    "df12['ST1.1'] = df12['ST1.1'].fillna(ST11_median)\n",
    "print(\"ST1.1の欠損値の数\", df12['ST1.1'].isnull().sum())"
   ]
  },
  {
   "cell_type": "code",
   "execution_count": 50,
   "metadata": {},
   "outputs": [
    {
     "name": "stdout",
     "output_type": "stream",
     "text": [
      "ST2.1の最小値 0.0\n",
      "ST2.1の最大値 7.0\n"
     ]
    }
   ],
   "source": [
    "print(\"ST2.1の最小値\", df12['ST2.1'].min())\n",
    "print(\"ST2.1の最大値\", df12['ST2.1'].max())"
   ]
  },
  {
   "cell_type": "code",
   "execution_count": 51,
   "metadata": {},
   "outputs": [
    {
     "name": "stderr",
     "output_type": "stream",
     "text": [
      "c:\\Users\\Public\\Anaconda\\envs\\kaggle\\lib\\site-packages\\seaborn\\_oldcore.py:1119: FutureWarning: use_inf_as_na option is deprecated and will be removed in a future version. Convert inf values to NaN before operating instead.\n",
      "  with pd.option_context('mode.use_inf_as_na', True):\n"
     ]
    },
    {
     "data": {
      "image/png": "[encoded data removed]",
      "text/plain": [
       "<Figure size 600x400 with 1 Axes>"
      ]
     },
     "metadata": {},
     "output_type": "display_data"
    },
    {
     "name": "stdout",
     "output_type": "stream",
     "text": [
      "ST2.1の平均値 4.780617678381256\n",
      "ST2.1の中央値 6.0\n"
     ]
    }
   ],
   "source": [
    "plt.figure(figsize=(6, 4))\n",
    "sns.histplot(data=df12['ST2.1'], kde=False, bins=7)\n",
    "plt.show()\n",
    "\n",
    "print(\"ST2.1の平均値\", df12['ST2.1'].mean())\n",
    "print(\"ST2.1の中央値\", df12['ST2.1'].median())"
   ]
  },
  {
   "cell_type": "code",
   "execution_count": 52,
   "metadata": {},
   "outputs": [
    {
     "name": "stdout",
     "output_type": "stream",
     "text": [
      "ST2.1の欠損値の数 0\n"
     ]
    }
   ],
   "source": [
    "df13 = df12.copy()\n",
    "ST21_median = df13['ST2.1'].median()\n",
    "df13['ST2.1'] = df13['ST2.1'].fillna(ST21_median)\n",
    "print(\"ST2.1の欠損値の数\", df13['ST2.1'].isnull().sum())"
   ]
  },
  {
   "cell_type": "code",
   "execution_count": 53,
   "metadata": {},
   "outputs": [
    {
     "name": "stdout",
     "output_type": "stream",
     "text": [
      "ACE.2の最小値 0.0\n",
      "ACE.2の最大値 39.0\n"
     ]
    }
   ],
   "source": [
    "print(\"ACE.2の最小値\", df13['ACE.2'].min())\n",
    "print(\"ACE.2の最大値\", df13['ACE.2'].max())"
   ]
  },
  {
   "cell_type": "code",
   "execution_count": 54,
   "metadata": {},
   "outputs": [
    {
     "name": "stderr",
     "output_type": "stream",
     "text": [
      "c:\\Users\\Public\\Anaconda\\envs\\kaggle\\lib\\site-packages\\seaborn\\_oldcore.py:1119: FutureWarning: use_inf_as_na option is deprecated and will be removed in a future version. Convert inf values to NaN before operating instead.\n",
      "  with pd.option_context('mode.use_inf_as_na', True):\n"
     ]
    },
    {
     "data": {
      "image/png": "[encoded data removed]",
      "text/plain": [
       "<Figure size 600x400 with 1 Axes>"
      ]
     },
     "metadata": {},
     "output_type": "display_data"
    },
    {
     "name": "stdout",
     "output_type": "stream",
     "text": [
      "ACE.2の平均値 5.982627578718784\n",
      "ACE.2の中央値 4.0\n"
     ]
    }
   ],
   "source": [
    "plt.figure(figsize=(6, 4))\n",
    "sns.histplot(data=df13['ACE.2'], kde=False, bins=13)\n",
    "plt.show()\n",
    "\n",
    "print(\"ACE.2の平均値\", df13['ACE.2'].mean())\n",
    "print(\"ACE.2の中央値\", df13['ACE.2'].median())"
   ]
  },
  {
   "cell_type": "code",
   "execution_count": 55,
   "metadata": {},
   "outputs": [
    {
     "name": "stdout",
     "output_type": "stream",
     "text": [
      "ACE.2の欠損値の数 0\n"
     ]
    }
   ],
   "source": [
    "df14 = df13.copy()\n",
    "ACE2_median = df14['ACE.2'].median()\n",
    "df14['ACE.2'] = df14['ACE.2'].fillna(ACE2_median)\n",
    "print(\"ACE.2の欠損値の数\", df14['ACE.2'].isnull().sum())"
   ]
  },
  {
   "cell_type": "code",
   "execution_count": 56,
   "metadata": {},
   "outputs": [
    {
     "name": "stdout",
     "output_type": "stream",
     "text": [
      "DBF.2の最小値 0.0\n",
      "DBF.2の最大値 18.0\n"
     ]
    }
   ],
   "source": [
    "print(\"DBF.2の最小値\", df14['DBF.2'].min())\n",
    "print(\"DBF.2の最大値\", df14['DBF.2'].max())"
   ]
  },
  {
   "cell_type": "code",
   "execution_count": 57,
   "metadata": {},
   "outputs": [
    {
     "name": "stderr",
     "output_type": "stream",
     "text": [
      "c:\\Users\\Public\\Anaconda\\envs\\kaggle\\lib\\site-packages\\seaborn\\_oldcore.py:1119: FutureWarning: use_inf_as_na option is deprecated and will be removed in a future version. Convert inf values to NaN before operating instead.\n",
      "  with pd.option_context('mode.use_inf_as_na', True):\n"
     ]
    },
    {
     "data": {
      "image/png": "[encoded data removed]",
      "text/plain": [
       "<Figure size 600x400 with 1 Axes>"
      ]
     },
     "metadata": {},
     "output_type": "display_data"
    },
    {
     "name": "stdout",
     "output_type": "stream",
     "text": [
      "DBF.2の平均値 3.7721925133689838\n",
      "DBF.2の中央値 3.0\n"
     ]
    }
   ],
   "source": [
    "plt.figure(figsize=(6, 4))\n",
    "sns.histplot(data=df14['DBF.2'], kde=False, bins=9)\n",
    "plt.show()\n",
    "\n",
    "print(\"DBF.2の平均値\", df14['DBF.2'].mean())\n",
    "print(\"DBF.2の中央値\", df14['DBF.2'].median())"
   ]
  },
  {
   "cell_type": "code",
   "execution_count": 58,
   "metadata": {},
   "outputs": [
    {
     "name": "stdout",
     "output_type": "stream",
     "text": [
      "DBF.2の欠損値の数 0\n"
     ]
    }
   ],
   "source": [
    "df15 = df14.copy()\n",
    "DBF2_median = df15['DBF.2'].median()\n",
    "df15['DBF.2'] = df15['DBF.2'].fillna(DBF2_median)\n",
    "print(\"DBF.2の欠損値の数\", df15['DBF.2'].isnull().sum())"
   ]
  },
  {
   "cell_type": "code",
   "execution_count": 59,
   "metadata": {},
   "outputs": [
    {
     "name": "stdout",
     "output_type": "stream",
     "text": [
      "BPC.2の最小値 0.0\n",
      "BPC.2の最大値 25.0\n"
     ]
    }
   ],
   "source": [
    "print(\"BPC.2の最小値\", df15['BPC.2'].min())\n",
    "print(\"BPC.2の最大値\", df15['BPC.2'].max())"
   ]
  },
  {
   "cell_type": "code",
   "execution_count": 60,
   "metadata": {},
   "outputs": [
    {
     "name": "stderr",
     "output_type": "stream",
     "text": [
      "c:\\Users\\Public\\Anaconda\\envs\\kaggle\\lib\\site-packages\\seaborn\\_oldcore.py:1119: FutureWarning: use_inf_as_na option is deprecated and will be removed in a future version. Convert inf values to NaN before operating instead.\n",
      "  with pd.option_context('mode.use_inf_as_na', True):\n"
     ]
    },
    {
     "data": {
      "image/png": "[encoded data removed]",
      "text/plain": [
       "<Figure size 600x400 with 1 Axes>"
      ]
     },
     "metadata": {},
     "output_type": "display_data"
    },
    {
     "name": "stdout",
     "output_type": "stream",
     "text": [
      "BPC.2の平均値 5.209129511677283\n",
      "BPC.2の中央値 5.0\n"
     ]
    }
   ],
   "source": [
    "plt.figure(figsize=(6, 4))\n",
    "sns.histplot(data=df15['BPC.2'], kde=False, bins=25)\n",
    "plt.show()\n",
    "\n",
    "print(\"BPC.2の平均値\", df15['BPC.2'].mean())\n",
    "print(\"BPC.2の中央値\", df15['BPC.2'].median())"
   ]
  },
  {
   "cell_type": "code",
   "execution_count": 61,
   "metadata": {},
   "outputs": [
    {
     "name": "stdout",
     "output_type": "stream",
     "text": [
      "BPC.2の欠損値の数 0\n"
     ]
    }
   ],
   "source": [
    "df16 = df15.copy()\n",
    "BPC2_median = df16['BPC.2'].median()\n",
    "df16['BPC.2'] = df16['BPC.2'].fillna(BPC2_median)\n",
    "print(\"BPC.2の欠損値の数\", df16['BPC.2'].isnull().sum())"
   ]
  },
  {
   "cell_type": "code",
   "execution_count": 62,
   "metadata": {},
   "outputs": [
    {
     "name": "stdout",
     "output_type": "stream",
     "text": [
      "BPW.2の最小値 0.0\n",
      "BPW.2の最大値 26.0\n"
     ]
    }
   ],
   "source": [
    "print(\"BPW.2の最小値\", df16['BPW.2'].min())\n",
    "print(\"BPW.2の最大値\", df16['BPW.2'].max())"
   ]
  },
  {
   "cell_type": "code",
   "execution_count": 63,
   "metadata": {},
   "outputs": [
    {
     "name": "stderr",
     "output_type": "stream",
     "text": [
      "c:\\Users\\Public\\Anaconda\\envs\\kaggle\\lib\\site-packages\\seaborn\\_oldcore.py:1119: FutureWarning: use_inf_as_na option is deprecated and will be removed in a future version. Convert inf values to NaN before operating instead.\n",
      "  with pd.option_context('mode.use_inf_as_na', True):\n"
     ]
    },
    {
     "data": {
      "image/png": "[encoded data removed]",
      "text/plain": [
       "<Figure size 600x400 with 1 Axes>"
      ]
     },
     "metadata": {},
     "output_type": "display_data"
    },
    {
     "name": "stdout",
     "output_type": "stream",
     "text": [
      "BPW.2の平均値 7.095541401273885\n",
      "BPW.2の中央値 6.0\n"
     ]
    }
   ],
   "source": [
    "plt.figure(figsize=(6, 4))\n",
    "sns.histplot(data=df16['BPW.2'], kde=False, bins=26)\n",
    "plt.show()\n",
    "\n",
    "print(\"BPW.2の平均値\", df16['BPW.2'].mean())\n",
    "print(\"BPW.2の中央値\", df16['BPW.2'].median())"
   ]
  },
  {
   "cell_type": "code",
   "execution_count": 64,
   "metadata": {},
   "outputs": [
    {
     "name": "stdout",
     "output_type": "stream",
     "text": [
      "BPW.2の欠損値の数 0\n"
     ]
    }
   ],
   "source": [
    "df17 = df16.copy()\n",
    "BPW2_median = df17['BPW.2'].median()\n",
    "df17['BPW.2'] = df17['BPW.2'].fillna(BPW2_median)\n",
    "print(\"BPW.2の欠損値の数\", df17['BPW.2'].isnull().sum())"
   ]
  },
  {
   "cell_type": "code",
   "execution_count": 66,
   "metadata": {},
   "outputs": [
    {
     "name": "stdout",
     "output_type": "stream",
     "text": [
      "NPA.2の最小値 0.0\n",
      "NPA.2の最大値 82.0\n"
     ]
    }
   ],
   "source": [
    "print(\"NPA.2の最小値\", df17['NPA.2'].min())\n",
    "print(\"NPA.2の最大値\", df17['NPA.2'].max())"
   ]
  },
  {
   "cell_type": "code",
   "execution_count": 67,
   "metadata": {},
   "outputs": [
    {
     "name": "stderr",
     "output_type": "stream",
     "text": [
      "c:\\Users\\Public\\Anaconda\\envs\\kaggle\\lib\\site-packages\\seaborn\\_oldcore.py:1119: FutureWarning: use_inf_as_na option is deprecated and will be removed in a future version. Convert inf values to NaN before operating instead.\n",
      "  with pd.option_context('mode.use_inf_as_na', True):\n"
     ]
    },
    {
     "data": {
      "image/png": "[encoded data removed]",
      "text/plain": [
       "<Figure size 600x400 with 1 Axes>"
      ]
     },
     "metadata": {},
     "output_type": "display_data"
    },
    {
     "name": "stdout",
     "output_type": "stream",
     "text": [
      "NPA.2の平均値 15.942956926658905\n",
      "NPA.2の中央値 13.0\n"
     ]
    }
   ],
   "source": [
    "plt.figure(figsize=(6, 4))\n",
    "sns.histplot(data=df17['NPA.2'], kde=False, bins=41)\n",
    "plt.show()\n",
    "\n",
    "print(\"NPA.2の平均値\", df17['NPA.2'].mean())\n",
    "print(\"NPA.2の中央値\", df17['NPA.2'].median())\n"
   ]
  },
  {
   "cell_type": "code",
   "execution_count": 68,
   "metadata": {},
   "outputs": [
    {
     "name": "stdout",
     "output_type": "stream",
     "text": [
      "NPA.2の欠損値の数 0\n"
     ]
    }
   ],
   "source": [
    "df18 = df17.copy()\n",
    "NPA2_median = df18['NPA.2'].median()\n",
    "df18['NPA.2'] = df18['NPA.2'].fillna(NPA2_median)\n",
    "print(\"NPA.2の欠損値の数\", df18['NPA.2'].isnull().sum())"
   ]
  },
  {
   "cell_type": "code",
   "execution_count": 69,
   "metadata": {},
   "outputs": [
    {
     "name": "stdout",
     "output_type": "stream",
     "text": [
      "NPW.2の最小値 0.0\n",
      "NPW.2の最大値 81.0\n"
     ]
    }
   ],
   "source": [
    "print(\"NPW.2の最小値\", df18['NPW.2'].min())\n",
    "print(\"NPW.2の最大値\", df18['NPW.2'].max())"
   ]
  },
  {
   "cell_type": "code",
   "execution_count": 70,
   "metadata": {},
   "outputs": [
    {
     "name": "stderr",
     "output_type": "stream",
     "text": [
      "c:\\Users\\Public\\Anaconda\\envs\\kaggle\\lib\\site-packages\\seaborn\\_oldcore.py:1119: FutureWarning: use_inf_as_na option is deprecated and will be removed in a future version. Convert inf values to NaN before operating instead.\n",
      "  with pd.option_context('mode.use_inf_as_na', True):\n"
     ]
    },
    {
     "data": {
      "image/png": "[encoded data removed]",
      "text/plain": [
       "<Figure size 600x400 with 1 Axes>"
      ]
     },
     "metadata": {},
     "output_type": "display_data"
    },
    {
     "name": "stdout",
     "output_type": "stream",
     "text": [
      "NPW.2の平均値 17.58953488372093\n",
      "NPW.2の中央値 15.0\n"
     ]
    }
   ],
   "source": [
    "plt.figure(figsize=(6, 4))\n",
    "sns.histplot(data=df18['NPW.2'], kde=False, bins=27)\n",
    "plt.show()\n",
    "\n",
    "print(\"NPW.2の平均値\", df18['NPW.2'].mean())\n",
    "print(\"NPW.2の中央値\", df18['NPW.2'].median())\n"
   ]
  },
  {
   "cell_type": "code",
   "execution_count": 71,
   "metadata": {},
   "outputs": [
    {
     "name": "stdout",
     "output_type": "stream",
     "text": [
      "NPW.2の欠損値の数 0\n"
     ]
    }
   ],
   "source": [
    "df19 = df18.copy()\n",
    "NPW2_median = df19['NPW.2'].median()\n",
    "df19['NPW.2'] = df19['NPW.2'].fillna(NPW2_median)\n",
    "print(\"NPW.2の欠損値の数\", df19['NPW.2'].isnull().sum())"
   ]
  },
  {
   "cell_type": "code",
   "execution_count": 72,
   "metadata": {},
   "outputs": [
    {
     "name": "stdout",
     "output_type": "stream",
     "text": [
      "ST1.2の最小値 0.0\n",
      "ST1.2の最大値 7.0\n"
     ]
    }
   ],
   "source": [
    "print(\"ST1.2の最小値\", df19['ST1.2'].min())\n",
    "print(\"ST1.2の最大値\", df19['ST1.2'].max())"
   ]
  },
  {
   "cell_type": "code",
   "execution_count": 73,
   "metadata": {},
   "outputs": [
    {
     "name": "stderr",
     "output_type": "stream",
     "text": [
      "c:\\Users\\Public\\Anaconda\\envs\\kaggle\\lib\\site-packages\\seaborn\\_oldcore.py:1119: FutureWarning: use_inf_as_na option is deprecated and will be removed in a future version. Convert inf values to NaN before operating instead.\n",
      "  with pd.option_context('mode.use_inf_as_na', True):\n"
     ]
    },
    {
     "data": {
      "image/png": "[encoded data removed]",
      "text/plain": [
       "<Figure size 600x400 with 1 Axes>"
      ]
     },
     "metadata": {},
     "output_type": "display_data"
    },
    {
     "name": "stdout",
     "output_type": "stream",
     "text": [
      "ST1.2の平均値 4.816348195329087\n",
      "ST1.2の中央値 6.0\n"
     ]
    }
   ],
   "source": [
    "plt.figure(figsize=(6, 4))\n",
    "sns.histplot(data=df19['ST1.2'], kde=False, bins=7)\n",
    "plt.show()\n",
    "\n",
    "print(\"ST1.2の平均値\", df19['ST1.2'].mean())\n",
    "print(\"ST1.2の中央値\", df19['ST1.2'].median())"
   ]
  },
  {
   "cell_type": "code",
   "execution_count": 74,
   "metadata": {},
   "outputs": [
    {
     "name": "stdout",
     "output_type": "stream",
     "text": [
      "ST1.2の欠損値の数 0\n"
     ]
    }
   ],
   "source": [
    "df20 = df19.copy()\n",
    "ST12_median = df20['ST1.2'].median()\n",
    "df20['ST1.2'] = df20['ST1.2'].fillna(ST12_median)\n",
    "print(\"ST1.2の欠損値の数\", df20['ST1.2'].isnull().sum())"
   ]
  },
  {
   "cell_type": "code",
   "execution_count": 75,
   "metadata": {},
   "outputs": [
    {
     "name": "stdout",
     "output_type": "stream",
     "text": [
      "ST2.2の最小値 0.0\n",
      "ST2.2の最大値 7.0\n"
     ]
    }
   ],
   "source": [
    "print(\"ST2.2の最小値\", df20['ST2.2'].min())\n",
    "print(\"ST2.2の最大値\", df20['ST2.2'].max())"
   ]
  },
  {
   "cell_type": "code",
   "execution_count": 76,
   "metadata": {},
   "outputs": [
    {
     "name": "stderr",
     "output_type": "stream",
     "text": [
      "c:\\Users\\Public\\Anaconda\\envs\\kaggle\\lib\\site-packages\\seaborn\\_oldcore.py:1119: FutureWarning: use_inf_as_na option is deprecated and will be removed in a future version. Convert inf values to NaN before operating instead.\n",
      "  with pd.option_context('mode.use_inf_as_na', True):\n"
     ]
    },
    {
     "data": {
      "image/png": "[encoded data removed]",
      "text/plain": [
       "<Figure size 600x400 with 1 Axes>"
      ]
     },
     "metadata": {},
     "output_type": "display_data"
    },
    {
     "name": "stdout",
     "output_type": "stream",
     "text": [
      "ST2.2の平均値 4.69542066027689\n",
      "ST2.2の中央値 6.0\n"
     ]
    }
   ],
   "source": [
    "plt.figure(figsize=(6, 4))\n",
    "sns.histplot(data=df20['ST2.2'], kde=False, bins=7)\n",
    "plt.show()\n",
    "\n",
    "print(\"ST2.2の平均値\", df20['ST2.2'].mean())\n",
    "print(\"ST2.2の中央値\", df20['ST2.2'].median())"
   ]
  },
  {
   "cell_type": "code",
   "execution_count": 77,
   "metadata": {},
   "outputs": [
    {
     "name": "stdout",
     "output_type": "stream",
     "text": [
      "ST2.2の欠損値の数 0\n"
     ]
    }
   ],
   "source": [
    "df21 = df20.copy()\n",
    "ST22_median = df21['ST2.2'].median()\n",
    "df21['ST2.2'] = df21['ST2.2'].fillna(ST22_median)\n",
    "print(\"ST2.2の欠損値の数\", df21['ST2.2'].isnull().sum())"
   ]
  },
  {
   "cell_type": "code",
   "execution_count": 78,
   "metadata": {},
   "outputs": [
    {
     "data": {
      "text/plain": [
       "id              0\n",
       "Tournament      0\n",
       "Sex             0\n",
       "Round           0\n",
       "Result        472\n",
       "FNL.1           0\n",
       "FNL.2           0\n",
       "FSP.1           0\n",
       "FSW.1           0\n",
       "SSP.1           0\n",
       "SSW.1           0\n",
       "ACE.1           0\n",
       "DBF.1           0\n",
       "BPC.1           0\n",
       "BPW.1           0\n",
       "NPA.1           0\n",
       "NPW.1           0\n",
       "ST1.1           0\n",
       "ST2.1           0\n",
       "FSP.2           0\n",
       "FSW.2           0\n",
       "SSP.2           0\n",
       "SSW.2           0\n",
       "ACE.2           0\n",
       "DBF.2           0\n",
       "BPC.2           0\n",
       "BPW.2           0\n",
       "NPA.2           0\n",
       "NPW.2           0\n",
       "ST1.2           0\n",
       "ST2.2           0\n",
       "dtype: int64"
      ]
     },
     "execution_count": 78,
     "metadata": {},
     "output_type": "execute_result"
    }
   ],
   "source": [
    "df21.isnull().sum()"
   ]
  },
  {
   "cell_type": "code",
   "execution_count": null,
   "metadata": {},
   "outputs": [],
   "source": []
  }
 ],
 "metadata": {
  "kernelspec": {
   "display_name": "py311",
   "language": "python",
   "name": "python3"
  },
  "language_info": {
   "codemirror_mode": {
    "name": "ipython",
    "version": 3
   },
   "file_extension": ".py",
   "mimetype": "text/x-python",
   "name": "python",
   "nbconvert_exporter": "python",
   "pygments_lexer": "ipython3",
   "version": "3.10.13"
  }
 },
 "nbformat": 4,
 "nbformat_minor": 2
}
